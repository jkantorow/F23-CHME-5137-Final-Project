{
 "cells": [
  {
   "cell_type": "code",
   "execution_count": 4,
   "metadata": {},
   "outputs": [],
   "source": [
    "from ipywidgets import widgets, interact\n",
    "from IPython.display import display\n",
    "%matplotlib inline\n",
    "try:\n",
    "    import seaborn as sbn\n",
    "except (ModuleNotFoundError, ImportError):\n",
    "    sbn = None\n",
    "import matplotlib.pyplot as plt\n",
    "import numpy as np \n",
    "from IPython.core.pylabtools import figsize\n",
    "figsize(12, 10)\n",
    "if sbn:\n",
    "    sbn.set_context(\"talk\", font_scale=1)\n"
   ]
  },
  {
   "cell_type": "code",
   "execution_count": 5,
   "metadata": {},
   "outputs": [
    {
     "ename": "ImportError",
     "evalue": "cannot import name 'mol_heat_rxn' from 'test' (c:\\Users\\Lenovo\\AppData\\Local\\Programs\\Python\\Python311\\Lib\\test\\__init__.py)",
     "output_type": "error",
     "traceback": [
      "\u001b[1;31m---------------------------------------------------------------------------\u001b[0m",
      "\u001b[1;31mImportError\u001b[0m                               Traceback (most recent call last)",
      "Cell \u001b[1;32mIn[5], line 1\u001b[0m\n\u001b[1;32m----> 1\u001b[0m \u001b[38;5;28;01mfrom\u001b[39;00m \u001b[38;5;21;01mtest\u001b[39;00m \u001b[38;5;28;01mimport\u001b[39;00m (mol_heat_rxn, n_coal_rxn,\n\u001b[0;32m      2\u001b[0m                     n_crosslinks,\n\u001b[0;32m      3\u001b[0m                     T)\n",
      "\u001b[1;31mImportError\u001b[0m: cannot import name 'mol_heat_rxn' from 'test' (c:\\Users\\Lenovo\\AppData\\Local\\Programs\\Python\\Python311\\Lib\\test\\__init__.py)"
     ]
    }
   ],
   "source": [
    "from rescure_sim import (mol_heat_rxn, n_coal_rxn,\n",
    "                    n_crosslinks,\n",
    "                    T)"
   ]
  },
  {
   "cell_type": "code",
   "execution_count": 10,
   "metadata": {},
   "outputs": [
    {
     "name": "stdout",
     "output_type": "stream",
     "text": [
      "128 90 100 142\n"
     ]
    }
   ],
   "source": [
    "# Constant Input Parameters\n",
    "\n",
    "Ea = [128, 90, 100, 142] # Activation Energy, KJ/mol\n",
    "A = [2.34e10, 2.0e10, 2.1e10, 1.8e10] # Pre-exponential Factor\n",
    "R = 8.314 # Universal Gas Constant, KJ/mol.k\n",
    "\n",
    "# Assign the values in the Ea list to identifiable variable names\n",
    "# where pp = phenol-phenol and cp = coal-phenol\n",
    "# where pp_oo = phenol-phenol_ortho-ortho, pp_op = phenol-phenol_ortho-para, pp_pp = phenol-phenol_para-para\n",
    "\n",
    "Ea_pp_oo, Ea_pp_op, Ea_pp_pp, Ea_cp = Ea  # Activation Energy for each reaction type\n",
    "A_pp_oo, A_pp_op, A_pp_pp, A_cp = A # Pre-exponential Factor for each reaction type\n",
    "\n",
    "print(Ea_pp_oo, Ea_pp_op, Ea_pp_pp, Ea_cp)\n",
    "\n",
    "# Variable Input Parameters\n",
    "T = np.linspace(300, 500, 100) # Temperature, K\n",
    "\n",
    "# Calculating the rate constants for each reaction type\n",
    "k_pp_oo = A_pp_oo * np.exp(-Ea_pp_oo/(R*T))\n",
    "k_pp_op = A_pp_op * np.exp(-Ea_pp_op/(R*T))\n",
    "k_pp_pp = A_pp_pp * np.exp(-Ea_pp_pp/(R*T))\n",
    "k_cp = A_cp * np.exp(-Ea_cp/(R*T))\n",
    "\n",
    "Heat_of_rxn = [] # Heat of Reaction \n"
   ]
  },
  {
   "cell_type": "code",
   "execution_count": null,
   "metadata": {},
   "outputs": [],
   "source": [
    "@interact(p_phenol=widgets.FloatSlider(value=2.3, min=2.3, max=22, step=0.5), \n",
    "          o_phenol=widgets.FloatSlider(value=24, min=10, max=100, step=5), \n",
    "          coal=widgets.FloatSlider(value=0, min=0, max=100, step=5),\n",
    "          void=widgets.FloatSlider(value=0, min=0, max=100, step=5))\n",
    "\n",
    "def reaction(p_phenol, o_phenol, coal, void):\n",
    "    \n",
    "    \"\"\"Calculates the degree of crosslinking and temperature change \n",
    "    based on the input parameters using functions from the KMC_model module\"\"\"\n",
    "    \n",
    "    # Calculate the degree of crosslinking based on the input parameters\n",
    "    degree_cross = Degree_of_cross(p_phenol, o_phenol, coal, void)\n",
    "    \n",
    "    # Calculate the temperature change based on the degree of crosslinking\n",
    "    delta_T = temp_change(degree_cross)\n",
    "    \n",
    "    # Calculate the heat of reaction for each reaction type\n",
    "    heat_rxn_pp_oo = Heat_of_rxn(k_pp_oo, delta_T)\n",
    "    heat_rxn_pp_op = Heat_of_rxn(k_pp_op, delta_T)       \n",
    "    heat_rxn_pp_pp = Heat_of_rxn(k_pp_pp, delta_T)\n",
    "    heat_rxn_cp = Heat_of_rxn(k_cp, delta_T)\n",
    "    \n",
    "    \"\"\"Appends the calculated heat of reaction values to the Heat_of_rxn list for later plotting\"\"\"\n",
    "    \n",
    "    Heat_of_rxn.append([heat_rxn_pp_oo, heat_rxn_pp_op, heat_rxn_pp_pp, heat_rxn_cp])\n",
    "    \n",
    "    # Plot the sensitivity analysis\n",
    "    plot_sensitivity_analysis(T, [k_pp_oo, k_pp_op, k_pp_pp, k_cp],\n",
    "                              degree_cross, delta_T, Heat_of_rxn)\n",
    "\n",
    "# Define the sensitivity analysis plot function\n",
    "def plot_sensitivity_analysis(temperature, rate_constants, degree_cross, delta_T, heat_of_rxn):\n",
    "    fig, (ax1, ax2, ax3) = plt.subplots(3, 1, figsize=(12, 15))\n",
    "\n",
    "    # Plot Rate Constants\n",
    "    ax1.set_xlabel('Temperature (K)')\n",
    "    ax1.set_ylabel('Rate Constants')\n",
    "    ax1.plot(temperature, rate_constants[0], label='k_pp_oo')\n",
    "    ax1.plot(temperature, rate_constants[1], label='k_pp_op')\n",
    "    ax1.plot(temperature, rate_constants[2], label='k_pp_pp')\n",
    "    ax1.plot(temperature, rate_constants[3], label='k_cp')\n",
    "    ax1.legend(loc='upper left')\n",
    "\n",
    "    # Plot Degree of Crosslinking\n",
    "    ax2.set_xlabel('Temperature (K)')\n",
    "    ax2.set_ylabel('Degree of Crosslinking')\n",
    "    ax2.plot(temperature, degree_cross, label='Degree of Crosslinking', color='tab:orange')\n",
    "    ax2.legend(loc='upper left')\n",
    "\n",
    "    # Plot Temperature Change\n",
    "    ax3.set_xlabel('Temperature (K)')\n",
    "    ax3.set_ylabel('Temperature Change')    \n",
    "    ax3.plot(temperature, delta_T, label='Temperature Change', color='tab:green')\n",
    "    ax3.legend(loc='upper left')\n",
    "\n",
    "    fig.tight_layout()\n",
    "    plt.show()"
   ]
  },
  {
   "cell_type": "code",
   "execution_count": null,
   "metadata": {},
   "outputs": [],
   "source": []
  }
 ],
 "metadata": {
  "kernelspec": {
   "display_name": "Python 3",
   "language": "python",
   "name": "python3"
  },
  "language_info": {
   "codemirror_mode": {
    "name": "ipython",
    "version": 3
   },
   "file_extension": ".py",
   "mimetype": "text/x-python",
   "name": "python",
   "nbconvert_exporter": "python",
   "pygments_lexer": "ipython3",
   "version": "3.11.3"
  }
 },
 "nbformat": 4,
 "nbformat_minor": 2
}
