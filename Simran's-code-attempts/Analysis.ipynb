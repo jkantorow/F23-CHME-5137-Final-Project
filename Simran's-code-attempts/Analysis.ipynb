
"""" Changing the ratios in the input system and analyse how it affects the output (Heat of rxn; DOC?)"""
from ipywidgets import widgets, interact
from IPython.display import display
%matplotlib inline
try:
    import seaborn as sbn
except (ModuleNotFoundError, ImportError):
    print("No seaborn")
    sbn = None
import matplotlib.pyplot as plt
import numpy as np
from IPython.core.pylabtools import figsize
figsize(12, 10)
if sbn:
    sbn.set_context("talk", font_scale=1)
    
    
    
    


