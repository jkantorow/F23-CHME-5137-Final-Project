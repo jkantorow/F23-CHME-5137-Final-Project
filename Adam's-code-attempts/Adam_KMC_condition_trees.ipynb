{
 "cells": [
  {
   "cell_type": "code",
   "execution_count": null,
   "metadata": {},
   "outputs": [],
   "source": [
    "#what are the objects that we need to specify?\n",
    "#we need to know what sites the object has as well as the sites of the object(s) that it is bound to \n",
    "#0 = void\n",
    "#n.100 = object bound to the ortho site on a phenol  \n",
    "#n.001 = \n",
    "#1.0 = ortho_para_phenol\n",
    "#1.1 = ortho_phenol\n",
    "#1.3 = para_phenol\n",
    "#\n",
    "#3.01 = ortho_coal\n",
    "#3.03 = para_coal\n",
    "#2.2 = ortho_phenol - ortho_phenol bound together\n",
    "#2.4 = ortho_phenol - para_phenol bound together\n"
   ]
  },
  {
   "cell_type": "code",
   "execution_count": null,
   "metadata": {},
   "outputs": [],
   "source": [
    "t = 0\n",
    "\n",
    "ratio = (1, 2, 1)\n",
    "\n",
    "initial_state = initial_random_matrix(3, ratio)\n",
    "\n",
    "print(initial_state)"
   ]
  },
  {
   "cell_type": "code",
   "execution_count": null,
   "metadata": {},
   "outputs": [],
   "source": [
    "kpp= 0.8\n",
    "kpc= 0.8\n",
    "\n",
    "NW = initial_state[0,0]\n",
    "N = initial_state[0,1]\n",
    "NE = initial_state[0,2]\n",
    "W = initial_state[1,0]\n",
    "POI0 = initial_state[1,1]\n",
    "E = initial_state[1,2]\n",
    "SW = initial_state[2,0]\n",
    "S = initial_state[2,1]\n",
    "SE = initial_state[2,2]\n",
    "\n",
    "print(NW)\n",
    "print(N)\n",
    "print(NE)\n",
    "print(W)\n",
    "print(POI0)\n",
    "print(E)\n",
    "print(SW)\n",
    "print(S)\n",
    "print(SE)"
   ]
  },
  {
   "cell_type": "code",
   "execution_count": null,
   "metadata": {},
   "outputs": [],
   "source": [
    "p_count = (initial_state == 1.0).sum()\n",
    "c_count = (initial_state == 2.0).sum()\n",
    "v_count = (initial_state == 0.0).sum()\n",
    "\n",
    "print(p_count)\n",
    "print(c_count)\n",
    "print(v_count)"
   ]
  },
  {
   "cell_type": "code",
   "execution_count": null,
   "metadata": {},
   "outputs": [],
   "source": [
    "print(initial_state[0,])\n",
    "p_count_north = (initial_state[0,] ==1.0).sum()\n",
    "print(p_count_north)\n",
    "\n",
    "print(initial_state[2,])\n",
    "p_count_south = (initial_state[2,] ==1.0).sum()\n",
    "print(p_count_south)\n",
    "\n",
    "p_count_W = (initial_state[1,0] ==1.0).sum()\n",
    "p_count_E = (initial_state[1,2] ==1.0).sum()\n",
    "print(p_count_W)\n",
    "print(p_count_E)\n",
    "\n",
    "p_count_surr = (p_count_north + p_count_south + p_count_W + p_count_E)\n",
    "print(p_count_surr)"
   ]
  },
  {
   "cell_type": "code",
   "execution_count": null,
   "metadata": {},
   "outputs": [],
   "source": [
    "c_count_north = (initial_state[0,] ==2.0).sum()\n",
    "print(\"Coals in the first row:\", c_count_north)\n",
    "\n",
    "c_count_south = (initial_state[2,] ==2.0).sum()\n",
    "print(\"Coals in the third row\", c_count_south)\n",
    "\n",
    "c_count_W = (initial_state[1,0] ==2.0).sum()\n",
    "c_count_E = (initial_state[1,2] ==2.0).sum()\n",
    "print(\"Left coal?\", c_count_W)\n",
    "print(\"Right coal?\", c_count_E)\n",
    "\n",
    "c_count_surr = (c_count_north + c_count_south + c_count_W + c_count_E)\n",
    "print(\"number of surrounding coal molecules:\", c_count_surr)\n",
    "\n",
    "v_count_north = (initial_state[0,] ==0.0).sum()\n",
    "print(\"Voids in the first row:\", v_count_north)\n",
    "\n",
    "v_count_south = (initial_state[2,] ==0.0).sum()\n",
    "print(\"Voids in the third row\", v_count_south)\n",
    "\n",
    "v_count_W = (initial_state[1,0] ==0.0).sum()\n",
    "v_count_E = (initial_state[1,2] ==0.0).sum()\n",
    "print(\"Left void?\", v_count_W)\n",
    "print(\"Right void?\", v_count_E)\n",
    "\n",
    "v_count_surr = (v_count_north + v_count_south + v_count_W + v_count_E)\n",
    "print(\"number of surrounding voids:\", v_count_surr)"
   ]
  },
  {
   "cell_type": "code",
   "execution_count": null,
   "metadata": {},
   "outputs": [],
   "source": [
    "p_coefficient = (p_count_surr/8)\n",
    "print(p_coefficient)\n",
    "c_coefficient = (c_count_surr/8)\n",
    "print(c_coefficient)\n",
    "v_coefficient = (v_count_surr/8)\n",
    "print(v_coefficient)"
   ]
  },
  {
   "cell_type": "code",
   "execution_count": null,
   "metadata": {},
   "outputs": [],
   "source": [
    "if POI0 == 0.0:\n",
    "    KMC_rate_pp = 0\n",
    "\n",
    "    KMC_rate_pc = 0\n",
    "\n",
    "    KMC_rate_no_rxn = 1\n",
    "if POI0 == 1.0:\n",
    "    KMC_rate_pp = (kpp - (kpc*0.2))*p_coefficient\n",
    "\n",
    "    KMC_rate_pc = (kpc - (kpp*0.2))*c_coefficient\n",
    "\n",
    "    KMC_rate_no_rxn = (0.4 - (kpc*0.2) - (kpp*0.2))*v_coefficient\n",
    "if POI0 == 2.0:\n",
    "    KMC_rate_pp = 0\n",
    "    #notice I'm using th p coefficient here, NOT the c coefficient\n",
    "    KMC_rate_pc = (kpc - (kpp*0.2))*p_coefficient\n",
    "\n",
    "    KMC_rate_no_rxn = (0.4 - (kpc*0.2) - (kpp*0.2))*v_coefficient\n",
    "\n",
    "print(KMC_rate_pp)\n",
    "print(KMC_rate_pc)\n",
    "print(KMC_rate_no_rxn)"
   ]
  },
  {
   "cell_type": "code",
   "execution_count": null,
   "metadata": {},
   "outputs": [],
   "source": [
    "bondsum = sum([KMC_rate_pp, KMC_rate_pc])\n",
    "ratesum = sum([bondsum, KMC_rate_no_rxn])\n",
    "print(bondsum)\n",
    "print(ratesum)\n",
    "\n",
    "event_selector = np.random.rand()\n",
    "print(event_selector)\n",
    "\n",
    "chosen_event = ratesum * event_selector\n",
    "print(chosen_event)"
   ]
  },
  {
   "cell_type": "code",
   "execution_count": null,
   "metadata": {},
   "outputs": [],
   "source": [
    "if 0.0<=chosen_event<=KMC_rate_pp:\n",
    "        POI = 3.0\n",
    "        print ('Phenol-Phenol Bond')\n",
    "if KMC_rate_pp<chosen_event<=bondsum:\n",
    "        POI = 4.0\n",
    "        print('Phenol-Coal Bond')\n",
    "if bondsum<chosen_event<=ratesum:\n",
    "        POI = POI0\n",
    "        print('No Reaction')"
   ]
  },
  {
   "cell_type": "code",
   "execution_count": null,
   "metadata": {},
   "outputs": [],
   "source": [
    "t_next = t + 1\n",
    "\n",
    "next_state = initial_state\n",
    "next_state[1,1]=POI\n",
    "\n",
    "POI0=POI\n",
    "\n",
    "print(next_state)"
   ]
  }
 ],
 "metadata": {
  "language_info": {
   "name": "python"
  }
 },
 "nbformat": 4,
 "nbformat_minor": 2
}
