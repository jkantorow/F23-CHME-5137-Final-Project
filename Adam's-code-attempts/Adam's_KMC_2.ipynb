{
 "cells": [
  {
   "cell_type": "code",
   "execution_count": 3,
   "metadata": {},
   "outputs": [],
   "source": [
    "#Importing packages/functions\n",
    "%matplotlib inline\n",
    "import numpy as np\n",
    "from matplotlib import pyplot as plt\n",
    "import random\n",
    "from random import randrange\n",
    "#for me to be able to import Jason's module, it seems that I have to have my own copy in the current directory (folder)\n",
    "from rescurecopyforAdam import initial_random_matrix"
   ]
  },
  {
   "cell_type": "code",
   "execution_count": 4,
   "metadata": {},
   "outputs": [
    {
     "name": "stdout",
     "output_type": "stream",
     "text": [
      "[[0. 2. 1.]\n",
      " [0. 1. 1.]\n",
      " [1. 1. 1.]]\n"
     ]
    }
   ],
   "source": [
    "#kay so, the problem that came up for me in my intial attempt was that the intial state also plays a role in the event rates\n",
    "#so if we start by generating our initial state:\n",
    "t = 0\n",
    "\n",
    "ratio = (1, 2, 1)\n",
    "\n",
    "initial_state = initial_random_matrix(3, ratio)\n",
    "\n",
    "print(initial_state)"
   ]
  },
  {
   "cell_type": "code",
   "execution_count": 5,
   "metadata": {},
   "outputs": [
    {
     "name": "stdout",
     "output_type": "stream",
     "text": [
      "0.0\n",
      "2.0\n",
      "1.0\n",
      "0.0\n",
      "1.0\n",
      "1.0\n",
      "1.0\n",
      "1.0\n",
      "1.0\n"
     ]
    }
   ],
   "source": [
    "#then we can talk about the KMC rates\n",
    "#first - the reaction rates for phenol-phenol bonding (pp) and phenol-coal bonding (pc)\n",
    "#we're assuming they're even, yeah? Because the ring position is what makes the difference?\n",
    "kpp= 0.8\n",
    "kpc= 0.8\n",
    "#I hope you get a kick out of \"kpp,\" Jason :p\n",
    "\n",
    "#now for the event rates (I'm using arbitrary formulas here)\n",
    "#KMC_rate_pp = kpp - (kpc*0.2)\n",
    "\n",
    "#KMC_rate_pc = kpc - (kpp*0.2)\n",
    "\n",
    "#KMC_rate_no_rxn = 0.4 - (kpc*0.2) - (kpp*0.2)\n",
    "\n",
    "#But these are incomplete, yeah? We need to start defining our matrix positions\n",
    "\n",
    "NW = initial_state[0,0]\n",
    "N = initial_state[0,1]\n",
    "NE = initial_state[0,2]\n",
    "W = initial_state[1,0]\n",
    "#POI = Point of interest, yeah? We can't say MOI for molecule of interest because it could be a void\n",
    "#The 0 means it's the inital point of interest (because it could change by bonding or translocation)\n",
    "POI0 = initial_state[1,1]\n",
    "E = initial_state[1,2]\n",
    "SW = initial_state[2,0]\n",
    "S = initial_state[2,1]\n",
    "SE = initial_state[2,2]\n",
    "\n",
    "print(NW)\n",
    "print(N)\n",
    "print(NE)\n",
    "print(W)\n",
    "print(POI0)\n",
    "print(E)\n",
    "print(SW)\n",
    "print(S)\n",
    "print(SE)\n"
   ]
  },
  {
   "cell_type": "code",
   "execution_count": 6,
   "metadata": {},
   "outputs": [
    {
     "name": "stdout",
     "output_type": "stream",
     "text": [
      "6\n",
      "1\n",
      "2\n"
     ]
    }
   ],
   "source": [
    "#Cool, so now we gotta re-evaluate our KMC rates, but first we need some sort of modifier based on the quantity of phenols/coals/voids\n",
    "#surrounding the POI. My first instinct is  we can use the input ratio, but we're talking about the surrounding 8 positions, not all 9\n",
    "#so I think that's not the move. So let's make sure Adam knows how to index this lovely array that Jason made for us.\n",
    "\n",
    "p_count = (initial_state == 1.0).sum()\n",
    "c_count = (initial_state == 2.0).sum()\n",
    "v_count = (initial_state == 0.0).sum()\n",
    "\n",
    "print(p_count)\n",
    "print(c_count)\n",
    "print(v_count)"
   ]
  },
  {
   "cell_type": "code",
   "execution_count": 7,
   "metadata": {},
   "outputs": [
    {
     "name": "stdout",
     "output_type": "stream",
     "text": [
      "[0. 2. 1.]\n",
      "1\n",
      "[1. 1. 1.]\n",
      "3\n",
      "0\n",
      "1\n",
      "5\n"
     ]
    }
   ],
   "source": [
    "#Great! Now, can we exclude the center?\n",
    "print(initial_state[0,])\n",
    "p_count_north = (initial_state[0,] ==1.0).sum()\n",
    "print(p_count_north)\n",
    "\n",
    "print(initial_state[2,])\n",
    "p_count_south = (initial_state[2,] ==1.0).sum()\n",
    "print(p_count_south)\n",
    "\n",
    "p_count_W = (initial_state[1,0] ==1.0).sum()\n",
    "p_count_E = (initial_state[1,2] ==1.0).sum()\n",
    "print(p_count_W)\n",
    "print(p_count_E)\n",
    "\n",
    "p_count_surr = (p_count_north + p_count_south + p_count_W + p_count_E)\n",
    "print(p_count_surr)"
   ]
  },
  {
   "cell_type": "code",
   "execution_count": 8,
   "metadata": {},
   "outputs": [
    {
     "name": "stdout",
     "output_type": "stream",
     "text": [
      "Coals in the first row: 1\n",
      "Coals in the third row 0\n",
      "Left coal? 0\n",
      "Right coal? 0\n",
      "number of surrounding coal molecules: 1\n",
      "Voids in the first row: 1\n",
      "Voids in the third row 0\n",
      "Left void? 1\n",
      "Right void? 0\n",
      "number of surrounding voids: 2\n"
     ]
    }
   ],
   "source": [
    "#now let's get the other objects\n",
    "c_count_north = (initial_state[0,] ==2.0).sum()\n",
    "print(\"Coals in the first row:\", c_count_north)\n",
    "\n",
    "c_count_south = (initial_state[2,] ==2.0).sum()\n",
    "print(\"Coals in the third row\", c_count_south)\n",
    "\n",
    "c_count_W = (initial_state[1,0] ==2.0).sum()\n",
    "c_count_E = (initial_state[1,2] ==2.0).sum()\n",
    "print(\"Left coal?\", c_count_W)\n",
    "print(\"Right coal?\", c_count_E)\n",
    "\n",
    "c_count_surr = (c_count_north + c_count_south + c_count_W + c_count_E)\n",
    "print(\"number of surrounding coal molecules:\", c_count_surr)\n",
    "\n",
    "v_count_north = (initial_state[0,] ==0.0).sum()\n",
    "print(\"Voids in the first row:\", v_count_north)\n",
    "\n",
    "v_count_south = (initial_state[2,] ==0.0).sum()\n",
    "print(\"Voids in the third row\", v_count_south)\n",
    "\n",
    "v_count_W = (initial_state[1,0] ==0.0).sum()\n",
    "v_count_E = (initial_state[1,2] ==0.0).sum()\n",
    "print(\"Left void?\", v_count_W)\n",
    "print(\"Right void?\", v_count_E)\n",
    "\n",
    "v_count_surr = (v_count_north + v_count_south + v_count_W + v_count_E)\n",
    "print(\"number of surrounding voids:\", v_count_surr)"
   ]
  },
  {
   "cell_type": "code",
   "execution_count": 9,
   "metadata": {},
   "outputs": [
    {
     "name": "stdout",
     "output_type": "stream",
     "text": [
      "0.625\n",
      "0.125\n",
      "0.25\n"
     ]
    }
   ],
   "source": [
    "#HOORAY THAT WORKED kay so now we gotta make those KMC rates. Maybe we do something like this?\n",
    "p_coefficient = (p_count_surr/8)\n",
    "print(p_coefficient)\n",
    "c_coefficient = (c_count_surr/8)\n",
    "print(c_coefficient)\n",
    "v_coefficient = (v_count_surr/8)\n",
    "print(v_coefficient)"
   ]
  },
  {
   "cell_type": "code",
   "execution_count": 10,
   "metadata": {},
   "outputs": [],
   "source": [
    "#And then...\n",
    "\n",
    "#KMC_rate_pp = (kpp - (kpc*0.2))*p_coefficient\n",
    "\n",
    "#KMC_rate_pc = (kpc - (kpp*0.2))*c_coefficient\n",
    "\n",
    "#KMC_rate_no_rxn = (0.4 - (kpc*0.2) - (kpp*0.2))*v_coefficient\n"
   ]
  },
  {
   "cell_type": "code",
   "execution_count": 11,
   "metadata": {},
   "outputs": [
    {
     "name": "stdout",
     "output_type": "stream",
     "text": [
      "0.4\n",
      "0.08\n",
      "0.01999999999999999\n"
     ]
    }
   ],
   "source": [
    "#So what is the problem with these rates? \n",
    "#For one, we are not accounting for the possibility that two phenols next to each other will just not bond (or maybe we are, because that's\n",
    "#what the 0.4 in the last equation is?)\n",
    "#same with a phenol and a coal\n",
    "#we are also assuming that pp and pc bonds are equally likely which I guess is actually true because we're more worried about ring position\n",
    "#regardless, we gotta do this to make our lives easier:\n",
    "if POI0 == 0.0:\n",
    "    KMC_rate_pp = 0\n",
    "\n",
    "    KMC_rate_pc = 0\n",
    "\n",
    "    KMC_rate_no_rxn = 1\n",
    "if POI0 == 1.0:\n",
    "    KMC_rate_pp = (kpp - (kpc*0.2))*p_coefficient\n",
    "\n",
    "    KMC_rate_pc = (kpc - (kpp*0.2))*c_coefficient\n",
    "\n",
    "    KMC_rate_no_rxn = (0.4 - (kpc*0.2) - (kpp*0.2))*v_coefficient\n",
    "if POI0 == 2.0:\n",
    "    KMC_rate_pp = 0\n",
    "    #notice I'm using th p coefficient here, NOT the c coefficient\n",
    "    KMC_rate_pc = (kpc - (kpp*0.2))*p_coefficient\n",
    "\n",
    "    KMC_rate_no_rxn = (0.4 - (kpc*0.2) - (kpp*0.2))*v_coefficient\n",
    "\n",
    "print(KMC_rate_pp)\n",
    "print(KMC_rate_pc)\n",
    "print(KMC_rate_no_rxn)"
   ]
  },
  {
   "cell_type": "code",
   "execution_count": 12,
   "metadata": {},
   "outputs": [
    {
     "name": "stdout",
     "output_type": "stream",
     "text": [
      "0.48000000000000004\n",
      "0.5\n",
      "0.26292208636311565\n",
      "0.13146104318155782\n"
     ]
    }
   ],
   "source": [
    "#Cool, now for the random choice of the KMC:\n",
    "bondsum = sum([KMC_rate_pp, KMC_rate_pc])\n",
    "ratesum = sum([bondsum, KMC_rate_no_rxn])\n",
    "print(bondsum)\n",
    "print(ratesum)\n",
    "\n",
    "event_selector = np.random.rand()\n",
    "print(event_selector)\n",
    "\n",
    "chosen_event = ratesum * event_selector\n",
    "print(chosen_event)"
   ]
  },
  {
   "cell_type": "code",
   "execution_count": 13,
   "metadata": {},
   "outputs": [
    {
     "name": "stdout",
     "output_type": "stream",
     "text": [
      "Phenol-Phenol Bond\n"
     ]
    }
   ],
   "source": [
    "#and finally:\n",
    "if 0.0<=chosen_event<=KMC_rate_pp:\n",
    "        POI = 3.0\n",
    "        print ('Phenol-Phenol Bond')\n",
    "if KMC_rate_pp<chosen_event<=bondsum:\n",
    "        POI = 4.0\n",
    "        print('Phenol-Coal Bond')\n",
    "if bondsum<chosen_event<=ratesum:\n",
    "        POI = POI0\n",
    "        print('No Reaction')"
   ]
  },
  {
   "cell_type": "code",
   "execution_count": 14,
   "metadata": {},
   "outputs": [
    {
     "name": "stdout",
     "output_type": "stream",
     "text": [
      "[[0. 2. 1.]\n",
      " [0. 3. 1.]\n",
      " [1. 1. 1.]]\n"
     ]
    }
   ],
   "source": [
    "#YUH\n",
    "\n",
    "t_next = t + 1\n",
    "\n",
    "next_state = initial_state\n",
    "next_state[1,1]=POI\n",
    "\n",
    "POI0=POI\n",
    "\n",
    "print(next_state)"
   ]
  },
  {
   "cell_type": "code",
   "execution_count": null,
   "metadata": {},
   "outputs": [],
   "source": [
    "#Success! I hope this helps us get closer to a nice working model :)\n",
    "#Maybe there are parts of this that can become it's own function?\n",
    "#Note that 3.0 = a phenol bound to a phenol\n",
    "#BUT! The phenol that the POI bound to did not also change to a 3.0 so there's still more to do"
   ]
  }
 ],
 "metadata": {
  "kernelspec": {
   "display_name": "base",
   "language": "python",
   "name": "python3"
  },
  "language_info": {
   "codemirror_mode": {
    "name": "ipython",
    "version": 3
   },
   "file_extension": ".py",
   "mimetype": "text/x-python",
   "name": "python",
   "nbconvert_exporter": "python",
   "pygments_lexer": "ipython3",
   "version": "3.9.13"
  }
 },
 "nbformat": 4,
 "nbformat_minor": 2
}
