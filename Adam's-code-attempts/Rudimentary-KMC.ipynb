{
 "cells": [
  {
   "cell_type": "code",
   "execution_count": 1,
   "metadata": {},
   "outputs": [
    {
     "ename": "ModuleNotFoundError",
     "evalue": "No module named 'rescure'",
     "output_type": "error",
     "traceback": [
      "\u001b[1;31m---------------------------------------------------------------------------\u001b[0m",
      "\u001b[1;31mModuleNotFoundError\u001b[0m                       Traceback (most recent call last)",
      "\u001b[1;32mc:\\Users\\jessi\\CHME_5137\\F23-CHME-5137-Final-Project\\Adam's-code-attempts\\Rudimentary-KMC.ipynb Cell 1\u001b[0m line \u001b[0;36m1\n\u001b[0;32m     <a href='vscode-notebook-cell:/c%3A/Users/jessi/CHME_5137/F23-CHME-5137-Final-Project/Adam%27s-code-attempts/Rudimentary-KMC.ipynb#W0sZmlsZQ%3D%3D?line=10'>11</a>\u001b[0m \u001b[39mfrom\u001b[39;00m \u001b[39mrandom\u001b[39;00m \u001b[39mimport\u001b[39;00m randrange\n\u001b[0;32m     <a href='vscode-notebook-cell:/c%3A/Users/jessi/CHME_5137/F23-CHME-5137-Final-Project/Adam%27s-code-attempts/Rudimentary-KMC.ipynb#W0sZmlsZQ%3D%3D?line=12'>13</a>\u001b[0m \u001b[39m#I think I might steal Jason's initial random matrix code\u001b[39;00m\n\u001b[1;32m---> <a href='vscode-notebook-cell:/c%3A/Users/jessi/CHME_5137/F23-CHME-5137-Final-Project/Adam%27s-code-attempts/Rudimentary-KMC.ipynb#W0sZmlsZQ%3D%3D?line=14'>15</a>\u001b[0m \u001b[39mfrom\u001b[39;00m \u001b[39mrescure\u001b[39;00m \u001b[39mimport\u001b[39;00m initial_random_matrix\n\u001b[0;32m     <a href='vscode-notebook-cell:/c%3A/Users/jessi/CHME_5137/F23-CHME-5137-Final-Project/Adam%27s-code-attempts/Rudimentary-KMC.ipynb#W0sZmlsZQ%3D%3D?line=16'>17</a>\u001b[0m \u001b[39m#So what are our events? P-P bond, P-C bond, Nothing happens ... There's more but let's just start with that and see where we get\u001b[39;00m\n\u001b[0;32m     <a href='vscode-notebook-cell:/c%3A/Users/jessi/CHME_5137/F23-CHME-5137-Final-Project/Adam%27s-code-attempts/Rudimentary-KMC.ipynb#W0sZmlsZQ%3D%3D?line=17'>18</a>\u001b[0m \u001b[39m#I'm going to put arbitrary rates in for now\u001b[39;00m\n\u001b[0;32m     <a href='vscode-notebook-cell:/c%3A/Users/jessi/CHME_5137/F23-CHME-5137-Final-Project/Adam%27s-code-attempts/Rudimentary-KMC.ipynb#W0sZmlsZQ%3D%3D?line=18'>19</a>\u001b[0m k1\u001b[39m=\u001b[39m \u001b[39m0.9\u001b[39m\n",
      "\u001b[1;31mModuleNotFoundError\u001b[0m: No module named 'rescure'"
     ]
    }
   ],
   "source": [
    "#PLEASE KNOW that this monte carlo script does not account for the content of the surrounding spaces\n",
    "#if the center molecule is a phenol and it is surrounded by only spces or coal, then there is still a possibility for\n",
    "#the model to say that a phenol-phenol bond occured. I'm just using this as a starting point.\n",
    "\n",
    "#okie dokie, let's import our packages\n",
    "%matplotlib inline\n",
    "import numpy as np\n",
    "from matplotlib import pyplot as plt\n",
    "\n",
    "import random\n",
    "from random import randrange\n",
    "\n",
    "#I think I might steal Jason's initial random matrix code\n",
    "\n",
    "from rescure import initial_random_matrix\n",
    "\n",
    "#So what are our events? P-P bond, P-C bond, Nothing happens ... There's more but let's just start with that and see where we get\n",
    "#I'm going to put arbitrary rates in for now\n",
    "k1= 0.9\n",
    "k2= 0.7\n",
    "k3= 0.5\n",
    "\n",
    "RatePhenPhen = k1 - (k2*0.2) - (k3*0.1)\n",
    "\n",
    "RatePhenCoal = k2 - (k1*0.3) - (k3*0.2)\n",
    "\n",
    "RateNoRxn = k3 - (k2*0.2) - (k1*0.3)\n",
    "\n",
    "bondsum = sum([RatePhenPhen, RatePhenCoal])\n",
    "ratesum = sum([bondsum, RateNoRxn])\n",
    "\n",
    "print(RatePhenPhen)\n",
    "print(RatePhenCoal)\n",
    "print(RateNoRxn)\n",
    "print(bondsum)\n",
    "print(ratesum)"
   ]
  },
  {
   "cell_type": "code",
   "execution_count": null,
   "metadata": {},
   "outputs": [
    {
     "name": "stdout",
     "output_type": "stream",
     "text": [
      "[[1. 2. 1.]\n",
      " [1. 0. 1.]\n",
      " [2. 1. 0.]]\n"
     ]
    }
   ],
   "source": [
    "#Yeah so it looks like we need some initial states and actual objects, yeah?\n",
    "t = 0\n",
    "\n",
    "ratio = (1, 2, 1)\n",
    "\n",
    "inital_state = initial_random_matrix(3, ratio)\n",
    "\n",
    "print(inital_state)"
   ]
  },
  {
   "cell_type": "code",
   "execution_count": null,
   "metadata": {},
   "outputs": [
    {
     "name": "stdout",
     "output_type": "stream",
     "text": [
      "0.3881806801421902\n"
     ]
    }
   ],
   "source": [
    "#coolcoolcool now let's get our selector\n",
    "event_selector = np.random.rand()\n",
    "print(event_selector)"
   ]
  },
  {
   "cell_type": "code",
   "execution_count": null,
   "metadata": {},
   "outputs": [
    {
     "name": "stdout",
     "output_type": "stream",
     "text": [
      "0.4386441685606749\n"
     ]
    }
   ],
   "source": [
    "chosen_event = ratesum * event_selector\n",
    "print(chosen_event)"
   ]
  },
  {
   "cell_type": "code",
   "execution_count": null,
   "metadata": {},
   "outputs": [
    {
     "name": "stdout",
     "output_type": "stream",
     "text": [
      "1.0\n",
      "2.0\n",
      "1.0\n",
      "1.0\n",
      "0.0\n",
      "1.0\n",
      "2.0\n",
      "1.0\n",
      "0.0\n"
     ]
    }
   ],
   "source": [
    "#First, we should assign variables to each position in the matrix I think\n",
    "\n",
    "NW = inital_state[0,0]\n",
    "N = inital_state[0,1]\n",
    "NE = inital_state[0,2]\n",
    "W = inital_state[1,0]\n",
    "CenterMol0 = inital_state[1,1]\n",
    "E = inital_state[1,2]\n",
    "SW = inital_state[2,0]\n",
    "S = inital_state[2,1]\n",
    "SE = inital_state[2,2]\n",
    "\n",
    "print(NW)\n",
    "print(N)\n",
    "print(NE)\n",
    "print(W)\n",
    "print(CenterMol0)\n",
    "print(E)\n",
    "print(SW)\n",
    "print(S)\n",
    "print(SE)\n"
   ]
  },
  {
   "cell_type": "code",
   "execution_count": null,
   "metadata": {},
   "outputs": [
    {
     "name": "stdout",
     "output_type": "stream",
     "text": [
      "No Reaction\n"
     ]
    }
   ],
   "source": [
    "if CenterMol0 == 0.0:\n",
    "    CenterMol = CenterMol0\n",
    "    print('No Reaction')\n",
    "\n",
    "if CenterMol0 == 1.0:\n",
    "    if 0.0<=chosen_event<=RatePhenPhen:\n",
    "        CenterMol = CenterMol0 + 2\n",
    "        print ('Phenol-Phenol Bond')\n",
    "    if RatePhenPhen<chosen_event<=bondsum:\n",
    "        CenterMol = CenterMol0 + 3\n",
    "        print('Phenol-Coal Bond')\n",
    "    if bondsum<chosen_event<=ratesum:\n",
    "        CenterMol = CenterMol0\n",
    "        print('No Reaction')\n",
    "\n",
    "if CenterMol0 == 2.0:\n",
    "    if 0.0<=chosen_event<=RatePhenPhen:\n",
    "        CenterMol = CenterMol0\n",
    "        print('No Reaction')\n",
    "    if RatePhenPhen<chosen_event<=bondsum:\n",
    "        CenterMol = CenterMol0 + 3\n",
    "        print('Phenol-Coal Bond')\n",
    "    if bondsum<chosen_event<=ratesum:\n",
    "        CenterMol = CenterMol0\n",
    "        print('No Reaction')\n"
   ]
  }
 ],
 "metadata": {
  "kernelspec": {
   "display_name": "base",
   "language": "python",
   "name": "python3"
  },
  "language_info": {
   "codemirror_mode": {
    "name": "ipython",
    "version": 3
   },
   "file_extension": ".py",
   "mimetype": "text/x-python",
   "name": "python",
   "nbconvert_exporter": "python",
   "pygments_lexer": "ipython3",
   "version": "3.11.5"
  }
 },
 "nbformat": 4,
 "nbformat_minor": 2
}
