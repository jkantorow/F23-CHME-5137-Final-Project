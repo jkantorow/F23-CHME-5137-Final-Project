{
 "cells": [
  {
   "cell_type": "code",
   "execution_count": 7,
   "metadata": {},
   "outputs": [],
   "source": [
    "from rescure import initial_random_matrix\n",
    "import numpy as np"
   ]
  },
  {
   "cell_type": "code",
   "execution_count": 8,
   "metadata": {},
   "outputs": [
    {
     "name": "stdout",
     "output_type": "stream",
     "text": [
      "[[0. 0. 0. 0. 1. 0. 0. 2. 2. 1. 2. 1. 0. 0. 2.]\n",
      " [1. 1. 0. 1. 0. 1. 1. 0. 1. 0. 1. 1. 1. 1. 1.]\n",
      " [0. 1. 2. 1. 1. 1. 1. 2. 1. 1. 1. 2. 1. 1. 1.]\n",
      " [1. 1. 1. 1. 1. 1. 1. 1. 0. 1. 2. 2. 1. 1. 2.]\n",
      " [1. 2. 1. 2. 1. 1. 0. 1. 2. 1. 1. 1. 1. 1. 1.]\n",
      " [0. 1. 0. 1. 2. 1. 1. 0. 1. 2. 1. 0. 0. 2. 1.]\n",
      " [1. 2. 1. 0. 2. 2. 1. 2. 1. 1. 1. 0. 1. 2. 1.]\n",
      " [1. 1. 2. 0. 0. 0. 1. 0. 2. 1. 0. 2. 0. 1. 2.]\n",
      " [1. 1. 2. 2. 1. 1. 1. 1. 2. 2. 2. 1. 2. 1. 1.]\n",
      " [1. 1. 0. 0. 0. 2. 0. 0. 1. 0. 2. 0. 0. 1. 1.]\n",
      " [2. 2. 1. 1. 2. 1. 2. 1. 1. 1. 2. 0. 2. 1. 0.]\n",
      " [1. 0. 0. 0. 1. 1. 0. 2. 2. 1. 1. 2. 1. 1. 0.]\n",
      " [1. 2. 1. 1. 1. 0. 0. 0. 2. 1. 2. 1. 1. 1. 0.]\n",
      " [1. 2. 2. 2. 1. 1. 0. 2. 0. 1. 0. 0. 1. 1. 1.]\n",
      " [1. 2. 1. 2. 1. 1. 1. 2. 1. 0. 1. 1. 0. 2. 0.]]\n"
     ]
    }
   ],
   "source": [
    "ratio = (1, 2, 1)\n",
    "\n",
    "initial_state = initial_random_matrix(15, ratio)\n",
    "\n",
    "print(initial_state)"
   ]
  },
  {
   "cell_type": "code",
   "execution_count": 9,
   "metadata": {},
   "outputs": [
    {
     "name": "stdout",
     "output_type": "stream",
     "text": [
      "54\n",
      "118\n",
      "53\n"
     ]
    }
   ],
   "source": [
    "# Test to see if the distrubution is the correct ratio:\n",
    "\n",
    "n = len(initial_state)\n",
    "\n",
    "voids = []\n",
    "phenols = []\n",
    "coals = []\n",
    "\n",
    "for i in range(n):\n",
    "    for j in range(n):\n",
    "        if initial_state[i][j] == 0:\n",
    "            voids.append((i, j))\n",
    "        elif initial_state[i][j] == 1:\n",
    "            phenols.append((i, j))\n",
    "        elif initial_state[i][j] == 2:\n",
    "            coals.append((i, j))\n",
    "\n",
    "print(len(voids))\n",
    "print(len(phenols))\n",
    "print(len(coals))\n",
    "\n",
    "# Looks like it's working!"
   ]
  },
  {
   "cell_type": "markdown",
   "metadata": {},
   "source": [
    "Let's test the kernel / filter:"
   ]
  },
  {
   "cell_type": "code",
   "execution_count": 15,
   "metadata": {},
   "outputs": [
    {
     "name": "stdout",
     "output_type": "stream",
     "text": [
      "[[1. 1. 0.]\n",
      " [1. 1. 1.]\n",
      " [0. 2. 0.]]\n",
      "True\n",
      "True\n",
      "False\n",
      "True\n",
      "True\n",
      "True\n",
      "False\n",
      "True\n",
      "False\n"
     ]
    }
   ],
   "source": [
    "start_mol = (-2, -2)\n",
    "i, j = start_mol\n",
    "\n",
    "periphery = []\n",
    "\n",
    "for k in range(i-1, j+2):\n",
    "    for l in range(j-1, j+2):\n",
    "        periphery.append(initial_state[k, l])\n",
    "\n",
    "# Reshape the periphery array to be a 3x3 array:\n",
    "\n",
    "periphery = np.array(periphery).reshape(3, 3)\n",
    "print(periphery)"
   ]
  },
  {
   "cell_type": "code",
   "execution_count": null,
   "metadata": {},
   "outputs": [],
   "source": []
  }
 ],
 "metadata": {
  "kernelspec": {
   "display_name": "Python 3",
   "language": "python",
   "name": "python3"
  },
  "language_info": {
   "codemirror_mode": {
    "name": "ipython",
    "version": 3
   },
   "file_extension": ".py",
   "mimetype": "text/x-python",
   "name": "python",
   "nbconvert_exporter": "python",
   "pygments_lexer": "ipython3",
   "version": "3.11.5"
  }
 },
 "nbformat": 4,
 "nbformat_minor": 2
}
