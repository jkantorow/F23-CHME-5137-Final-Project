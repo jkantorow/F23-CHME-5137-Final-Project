{
 "cells": [
  {
   "cell_type": "code",
   "execution_count": 1,
   "metadata": {},
   "outputs": [],
   "source": [
    "from rescure import initial_random_matrix"
   ]
  },
  {
   "cell_type": "code",
   "execution_count": 5,
   "metadata": {},
   "outputs": [
    {
     "name": "stdout",
     "output_type": "stream",
     "text": [
      "[[2. 1. 2. 0. 2. 1. 0. 1. 0. 1. 1. 1. 0. 1. 2.]\n",
      " [0. 1. 1. 1. 1. 1. 2. 1. 0. 0. 1. 1. 0. 1. 0.]\n",
      " [0. 1. 1. 1. 0. 2. 1. 1. 1. 1. 1. 0. 0. 2. 0.]\n",
      " [1. 0. 1. 2. 2. 1. 0. 2. 0. 2. 0. 2. 0. 1. 2.]\n",
      " [2. 2. 2. 0. 0. 2. 2. 0. 2. 1. 1. 0. 1. 2. 1.]\n",
      " [1. 0. 0. 1. 1. 2. 1. 1. 1. 2. 1. 1. 1. 0. 1.]\n",
      " [1. 1. 2. 2. 2. 1. 1. 2. 0. 0. 0. 0. 0. 2. 1.]\n",
      " [1. 0. 0. 1. 1. 1. 1. 1. 1. 1. 1. 0. 2. 1. 2.]\n",
      " [2. 0. 1. 2. 1. 1. 2. 0. 0. 1. 1. 2. 0. 1. 1.]\n",
      " [2. 1. 1. 0. 1. 0. 2. 1. 0. 2. 1. 1. 2. 1. 1.]\n",
      " [2. 1. 1. 0. 2. 2. 1. 2. 0. 2. 1. 0. 1. 1. 1.]\n",
      " [2. 0. 1. 1. 2. 2. 0. 1. 1. 1. 1. 2. 0. 1. 1.]\n",
      " [1. 0. 1. 1. 1. 2. 2. 0. 1. 1. 0. 1. 1. 1. 1.]\n",
      " [1. 1. 1. 1. 2. 2. 1. 1. 1. 0. 1. 0. 2. 2. 1.]\n",
      " [2. 1. 0. 2. 2. 1. 0. 2. 1. 1. 1. 2. 1. 0. 1.]]\n"
     ]
    }
   ],
   "source": [
    "ratio = (1, 2, 1)\n",
    "\n",
    "inital_state = initial_random_matrix(15, ratio)\n",
    "\n",
    "print(inital_state)"
   ]
  },
  {
   "cell_type": "code",
   "execution_count": 6,
   "metadata": {},
   "outputs": [
    {
     "name": "stdout",
     "output_type": "stream",
     "text": [
      "55\n",
      "113\n",
      "57\n"
     ]
    }
   ],
   "source": [
    "# Test to see if the distrubution is the correct ratio:\n",
    "\n",
    "n = len(inital_state)\n",
    "\n",
    "voids = []\n",
    "phenols = []\n",
    "coals = []\n",
    "\n",
    "for i in range(n):\n",
    "    for j in range(n):\n",
    "        if inital_state[i][j] == 0:\n",
    "            voids.append((i, j))\n",
    "        elif inital_state[i][j] == 1:\n",
    "            phenols.append((i, j))\n",
    "        elif inital_state[i][j] == 2:\n",
    "            coals.append((i, j))\n",
    "\n",
    "print(len(voids))\n",
    "print(len(phenols))\n",
    "print(len(coals))\n",
    "\n",
    "# Looks like it's working!"
   ]
  },
  {
   "cell_type": "code",
   "execution_count": null,
   "metadata": {},
   "outputs": [],
   "source": []
  }
 ],
 "metadata": {
  "kernelspec": {
   "display_name": "Python 3",
   "language": "python",
   "name": "python3"
  },
  "language_info": {
   "codemirror_mode": {
    "name": "ipython",
    "version": 3
   },
   "file_extension": ".py",
   "mimetype": "text/x-python",
   "name": "python",
   "nbconvert_exporter": "python",
   "pygments_lexer": "ipython3",
   "version": "3.11.5"
  }
 },
 "nbformat": 4,
 "nbformat_minor": 2
}
