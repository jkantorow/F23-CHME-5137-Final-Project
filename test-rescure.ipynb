{
 "cells": [
  {
   "cell_type": "code",
   "execution_count": 1,
   "metadata": {},
   "outputs": [],
   "source": [
    "from rescure import initial_random_matrix\n",
    "from rescure import get_rates_simplified\n",
    "from rescure import get_rates_phenol\n",
    "from rescure import choose_event\n",
    "import numpy as np"
   ]
  },
  {
   "cell_type": "code",
   "execution_count": 2,
   "metadata": {},
   "outputs": [
    {
     "name": "stdout",
     "output_type": "stream",
     "text": [
      "[[1. 1. 0. 1. 1. 0. 2. 0. 0. 1. 1. 2. 2. 0. 0.]\n",
      " [0. 2. 1. 0. 1. 2. 0. 1. 0. 1. 0. 1. 2. 1. 1.]\n",
      " [1. 2. 0. 1. 2. 1. 1. 0. 2. 1. 1. 0. 1. 1. 2.]\n",
      " [2. 0. 2. 1. 1. 0. 1. 0. 0. 0. 1. 0. 0. 2. 1.]\n",
      " [1. 2. 2. 1. 1. 2. 1. 1. 1. 1. 2. 1. 0. 2. 0.]\n",
      " [1. 2. 1. 2. 1. 1. 2. 1. 2. 0. 0. 0. 1. 1. 1.]\n",
      " [1. 0. 1. 1. 1. 1. 2. 2. 2. 2. 2. 2. 1. 1. 1.]\n",
      " [1. 1. 2. 1. 1. 0. 0. 2. 1. 1. 1. 1. 1. 2. 1.]\n",
      " [2. 2. 2. 2. 1. 0. 1. 2. 0. 2. 1. 1. 1. 1. 1.]\n",
      " [0. 2. 2. 0. 1. 1. 2. 0. 1. 1. 2. 1. 1. 1. 0.]\n",
      " [1. 0. 1. 1. 1. 1. 1. 1. 1. 2. 1. 1. 1. 0. 2.]\n",
      " [2. 1. 0. 0. 1. 1. 1. 0. 1. 1. 0. 2. 0. 1. 0.]\n",
      " [2. 1. 1. 0. 1. 1. 1. 1. 0. 1. 1. 1. 2. 2. 1.]\n",
      " [0. 1. 1. 1. 0. 0. 1. 1. 1. 1. 1. 1. 1. 1. 0.]\n",
      " [1. 1. 0. 1. 0. 0. 1. 1. 1. 1. 1. 0. 1. 2. 1.]]\n"
     ]
    }
   ],
   "source": [
    "ratio = (1, 2, 1)\n",
    "\n",
    "initial_state = initial_random_matrix(15, ratio)\n",
    "\n",
    "print(initial_state)"
   ]
  },
  {
   "cell_type": "code",
   "execution_count": 3,
   "metadata": {},
   "outputs": [
    {
     "name": "stdout",
     "output_type": "stream",
     "text": [
      "53\n",
      "123\n",
      "49\n"
     ]
    }
   ],
   "source": [
    "# Test to see if the distrubution is the correct ratio:\n",
    "\n",
    "n = len(initial_state)\n",
    "\n",
    "voids = []\n",
    "phenols = []\n",
    "coals = []\n",
    "\n",
    "for i in range(n):\n",
    "    for j in range(n):\n",
    "        if initial_state[i][j] == 0:\n",
    "            voids.append((i, j))\n",
    "        elif initial_state[i][j] == 1:\n",
    "            phenols.append((i, j))\n",
    "        elif initial_state[i][j] == 2:\n",
    "            coals.append((i, j))\n",
    "\n",
    "print(len(voids))\n",
    "print(len(phenols))\n",
    "print(len(coals))\n",
    "\n",
    "# Looks like it's working!"
   ]
  },
  {
   "cell_type": "markdown",
   "metadata": {},
   "source": [
    "Let's test the kernel / filter:"
   ]
  },
  {
   "cell_type": "code",
   "execution_count": 4,
   "metadata": {},
   "outputs": [
    {
     "name": "stdout",
     "output_type": "stream",
     "text": [
      "[1.0, 1.0, 2.0, 2.0, 1.0, 1.0]\n"
     ]
    }
   ],
   "source": [
    "start_mol = (5, 4)\n",
    "i, j = start_mol\n",
    "\n",
    "periphery = []\n",
    "\n",
    "for k in range(i-1, j+2):\n",
    "    for l in range(j-1, j+2):\n",
    "        periphery.append(initial_state[k, l]) #NOT WORKING\n",
    "\n",
    "# Reshape the periphery array to be a 3x3 array:\n",
    "\n",
    "# periphery = np.array(periphery).reshape(3, 3)\n",
    "print(periphery)"
   ]
  },
  {
   "cell_type": "code",
   "execution_count": 5,
   "metadata": {},
   "outputs": [],
   "source": [
    "# Different method of setting up the kernel / mask:\n",
    "\n",
    "start_mol = (5, 4)\n",
    "i, j = start_mol\n",
    "\n",
    "kernel = np.zeros((3, 3))\n",
    "\n",
    "kernel[0, 0] = 1 # Still need to figure out how to do this automatically"
   ]
  },
  {
   "cell_type": "markdown",
   "metadata": {},
   "source": [
    "Testing a simple rate function calculator:"
   ]
  },
  {
   "cell_type": "code",
   "execution_count": 6,
   "metadata": {},
   "outputs": [
    {
     "name": "stdout",
     "output_type": "stream",
     "text": [
      "[[0, 0, 0], [0, 0, 0], [0, 0, 0]]\n"
     ]
    }
   ],
   "source": [
    "# Let's say that the position of the molecule\n",
    "# we are looking at is (5, 4) in the initial state\n",
    "# matrix:\n",
    "\n",
    "pos = (5, 4)\n",
    "\n",
    "rate_matrix = get_rates_simplified(initial_state, pos)\n",
    "print(rate_matrix)"
   ]
  },
  {
   "cell_type": "code",
   "execution_count": 7,
   "metadata": {},
   "outputs": [
    {
     "name": "stdout",
     "output_type": "stream",
     "text": [
      "(3.04, 0.03999999999999998, 0, 0.0, 0.0, 0.2, 0.2, 0.2, 0.0, 0.0, 0.0, [(2, 5), (2, 6), (2, 7), (3, 5), (3, 7), (4, 5), (4, 6), (4, 7)], [1.0, 1.0, 0.0, 0.0, 0.0, 2.0, 1.0, 1.0])\n",
      "\n",
      "\n",
      "(5.32, 0.03999999999999998, 0, 0.0, 0.0, 0.0, 0.0, 0.0, 0.0, 0.0, 0.0, [(7, 11), (7, 12), (7, 13), (8, 11), (8, 13), (9, 11), (9, 12), (9, 13)], [1.0, 1.0, 2.0, 1.0, 1.0, 1.0, 1.0, 1.0])\n",
      "\n",
      "\n",
      "(4.5600000000000005, 0.0, 0, 0.0, 0.0, 0.16666666666666666, 0.0, 0.0, 0.0, 0.16666666666666666, 0.0, [(12, 1), (12, 2), (12, 3), (13, 1), (13, 3), (14, 1), (14, 2), (14, 3)], [1.0, 1.0, 0.0, 1.0, 1.0, 1.0, 0.0, 1.0])\n"
     ]
    }
   ],
   "source": [
    "state = initial_state\n",
    "\n",
    "pos_1 = (3, 6)\n",
    "pos_2 = (8, 12)\n",
    "pos_3 = (13, 2)\n",
    "\n",
    "T = 1\n",
    "\n",
    "rates_1 = get_rates_phenol(state, pos_1, T)\n",
    "rates_2 = get_rates_phenol(state, pos_2, T)\n",
    "rates_3 = get_rates_phenol(state, pos_3, T)\n",
    "\n",
    "print(rates_1)\n",
    "print(\"\\n\")\n",
    "print(rates_2)\n",
    "print(\"\\n\")\n",
    "print(rates_3)"
   ]
  },
  {
   "cell_type": "code",
   "execution_count": 8,
   "metadata": {},
   "outputs": [
    {
     "name": "stdout",
     "output_type": "stream",
     "text": [
      "move_ur\n",
      "pp_rxn\n",
      "pp_rxn\n"
     ]
    }
   ],
   "source": [
    "event1 = choose_event(rates_1[0:11])\n",
    "event2 = choose_event(rates_2[0:11])\n",
    "event3 = choose_event(rates_3[0:11])\n",
    "\n",
    "print(event1)\n",
    "print(event2)\n",
    "print(event3)"
   ]
  },
  {
   "cell_type": "code",
   "execution_count": null,
   "metadata": {},
   "outputs": [],
   "source": []
  }
 ],
 "metadata": {
  "kernelspec": {
   "display_name": "Python 3",
   "language": "python",
   "name": "python3"
  },
  "language_info": {
   "codemirror_mode": {
    "name": "ipython",
    "version": 3
   },
   "file_extension": ".py",
   "mimetype": "text/x-python",
   "name": "python",
   "nbconvert_exporter": "python",
   "pygments_lexer": "ipython3",
   "version": "3.11.5"
  }
 },
 "nbformat": 4,
 "nbformat_minor": 2
}
