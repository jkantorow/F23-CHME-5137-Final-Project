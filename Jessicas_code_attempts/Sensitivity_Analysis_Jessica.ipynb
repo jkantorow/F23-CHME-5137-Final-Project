{
 "cells": [
  {
   "cell_type": "code",
   "execution_count": 1,
   "metadata": {},
   "outputs": [],
   "source": [
    "## Sensitivity Analysis for Phenolic-Coal Crosslinking Project\n",
    "# The aim is to attempt using the four settings below for sensitivity analysis:\n",
    "        # Factor prioritisation** - which parameters are most influential?\n",
    "        # Factor fixing** - which parameters can we ignore?\n",
    "        # Factor mapping - which inputs matter for just this space in the model output?\n",
    "        # (Metamodelling) - which parameters can I use to model my model?\n",
    "\n",
    "# Questions to answer, Can we determine;\n",
    "        # 1. What is the sensitivity of the model to the input parameters?\n",
    "        # 2. Which parameters are most influential?\n",
    "        # 3. Which parameters can be ignored?\n",
    "        # 4. Which parameters can be mapped to a reduced space?\n",
    "        # 5. Which parameters can be used to model the model?\n",
    "\n",
    "# The aim is to attempt these 2 approaches:\n",
    "    # Local approaches\n",
    "    # Global approaches"
   ]
  },
  {
   "cell_type": "code",
   "execution_count": 22,
   "metadata": {},
   "outputs": [
    {
     "name": "stdout",
     "output_type": "stream",
     "text": [
      "Hrxn per phenol-phenol reaction =  5.250747260046496e-20\n",
      "n_molphen =  1.3333333333333333e-05\n",
      "n_phenol =  8.029333333333334e+18\n",
      "Hrxn_total_pp =  0.42160000000000003\n",
      "Hrxn_total_exp =  0.4216\n"
     ]
    }
   ],
   "source": [
    "## Heat of reaction for the total crosslinking reaction for the different rxns -- Experimental data\n",
    "\n",
    "# 100% phenolic curing reaction\n",
    "Hrxn_total = 31620 # Total Heat of reaction (100% phenolic) J/mol (from DSC)\n",
    "Na = 6.022e23 # Avogadro's number \n",
    "\n",
    "# Hrxn for a set of phenol-phenol (Hrxn_pp) -- Hrxn_total/Na (J/ph_mol)\n",
    "Hrxn_pp = Hrxn_total/Na # J/ph_mol\n",
    "print(\"Hrxn per phenol-phenol reaction = \", Hrxn_pp)\n",
    "\n",
    "# Sum of total H_rxn for all phenol-phenol reactions (Hrxn_total_pp)\n",
    "# Hrxn_total_pp = Hrxn_pp * Na (J/mol)\n",
    "\n",
    "# Based on the number of phenol molecules in each reaction the heat of reaction for each reaction can be calculated\n",
    "# n_phenol = mass_phenol/molar_mass_novolac_phenol\n",
    "mass_phenol = 0.008 # g\n",
    "molar_mass_novolac_phenol = 600 # g/mol\n",
    "n_molphen = mass_phenol/molar_mass_novolac_phenol # mol\n",
    "print(\"n_molphen = \", n_molphen)\n",
    "\n",
    "# How many phenol molecules per n_molphen of novolac phenol?\n",
    "# n_phenol = n_molphen * Avogadro's number\n",
    "n_phenol = n_molphen * Na # mol\n",
    "print(\"n_phenol = \", n_phenol)\n",
    "\n",
    "# The total Heat of reaction (phenol-phenol links) from simulation \n",
    "Hrxn_total_pp = Hrxn_pp * n_phenol # J/mol\n",
    "print(\"Hrxn_total_pp = \", Hrxn_total_pp)\n",
    "\n",
    "# Check with the experimental data\n",
    "# Hrxn_total_exp = 31620 # J/mol\n",
    "Hrxn_total_exp = Hrxn_total * n_molphen\n",
    "print(\"Hrxn_total_exp = \", Hrxn_total_exp)\n",
    "\n",
    "\n",
    "\n"
   ]
  },
  {
   "cell_type": "code",
   "execution_count": null,
   "metadata": {},
   "outputs": [],
   "source": [
    "# Input n_molphenol range of values \n",
    "# n_molphenol = np.linspace(0, 1, 100)\n",
    "n_molphen_values = [1.33e-5, 50, 100, 150, 200, 250, 300, 350, 400, 450, 500]\n",
    "\n",
    "#Once the n_molphenol is picked, then n_phenol is calculated and the Hrxn_sim is calculated"
   ]
  },
  {
   "cell_type": "code",
   "execution_count": 33,
   "metadata": {},
   "outputs": [
    {
     "name": "stdout",
     "output_type": "stream",
     "text": [
      "Results based on the crosslinking of the total phenolic resins present in the system:\n",
      "n_molphen = 1.33e-05 mols, Hrxn_total_exp = 0.42 J, Hrxn_total_pp = 0.42 J\n",
      "n_molphen = 5.00e+01 mols, Hrxn_total_exp = 1581000.00 J, Hrxn_total_pp = 1581000.00 J\n",
      "n_molphen = 1.00e+02 mols, Hrxn_total_exp = 3162000.00 J, Hrxn_total_pp = 3162000.00 J\n",
      "n_molphen = 1.50e+02 mols, Hrxn_total_exp = 4743000.00 J, Hrxn_total_pp = 4743000.00 J\n",
      "n_molphen = 2.00e+02 mols, Hrxn_total_exp = 6324000.00 J, Hrxn_total_pp = 6324000.00 J\n",
      "n_molphen = 2.50e+02 mols, Hrxn_total_exp = 7905000.00 J, Hrxn_total_pp = 7905000.00 J\n",
      "n_molphen = 3.00e+02 mols, Hrxn_total_exp = 9486000.00 J, Hrxn_total_pp = 9486000.00 J\n",
      "n_molphen = 3.50e+02 mols, Hrxn_total_exp = 11067000.00 J, Hrxn_total_pp = 11067000.00 J\n",
      "n_molphen = 4.00e+02 mols, Hrxn_total_exp = 12648000.00 J, Hrxn_total_pp = 12648000.00 J\n",
      "n_molphen = 4.50e+02 mols, Hrxn_total_exp = 14229000.00 J, Hrxn_total_pp = 14229000.00 J\n",
      "n_molphen = 5.00e+02 mols, Hrxn_total_exp = 15810000.00 J, Hrxn_total_pp = 15810000.00 J\n",
      "\n",
      "Results based on the actual number of phenol-phenol crosslinks formed in the system:\n",
      "n_molphen_sim = 3.00e+01 mols, Hrxn_total_exp = 948600.00 J, Hrxn_total_pp = 948600.00 J\n",
      "n_molphen_sim = 6.00e+01 mols, Hrxn_total_exp = 1897200.00 J, Hrxn_total_pp = 1897200.00 J\n",
      "n_molphen_sim = 8.00e+01 mols, Hrxn_total_exp = 2529600.00 J, Hrxn_total_pp = 2529600.00 J\n"
     ]
    }
   ],
   "source": [
    "def calculate_heat_of_reaction(n_molphen_values):\n",
    "    # Constants\n",
    "    Hrxn_total = 31620  # Total Heat of reaction (100% phenolic) J/mol (from DSC)\n",
    "    Na = 6.022e23  # Avogadro's number\n",
    "\n",
    "    results = []\n",
    "\n",
    "    for n_molphen in n_molphen_values:\n",
    "        # Calculate Hrxn for a phenol-phenol reaction (Hrxn_pp)\n",
    "        Hrxn_pp = Hrxn_total / Na  # J/ph_mol\n",
    "\n",
    "        # Calculate the total number of phenol molecules (n_phenol)\n",
    "        n_phenol = n_molphen * Na  # mol\n",
    "\n",
    "        # Calculate the total Heat of reaction for all phenol-phenol reactions\n",
    "        Hrxn_total_pp = Hrxn_pp * n_phenol  # J/mol\n",
    "\n",
    "        # Check with experimental data\n",
    "        Hrxn_total_exp = Hrxn_total * n_molphen\n",
    "\n",
    "        results.append((n_molphen, Hrxn_total_exp, Hrxn_total_pp))\n",
    "\n",
    "    return results\n",
    "\n",
    "# Example usage\n",
    "n_molphen_values = [1.33e-5, 50, 100, 150, 200, 250, 300]\n",
    "n_molphen_simulated_links = [1.33e-5, 30, 80, 120, 180, 210, 260]\n",
    "experimental_results = calculate_heat_of_reaction(n_molphen_values)\n",
    "simulated_results = calculate_heat_of_reaction(n_molphen_simulated_links)\n",
    "\n",
    "# Print the experimental results\n",
    "print(\"Results based on the crosslinking of the total phenolic resins present in the system:\")\n",
    "for n_molphen, Hrxn_total_exp, Hrxn_total_pp in experimental_results:\n",
    "    print(f\"n_molphen = {n_molphen:.2e} mols, Hrxn_total_exp = {Hrxn_total_exp:.2f} J, Hrxn_total_pp = {Hrxn_total_pp:.2f} J\")\n",
    "\n",
    "# Print the simulated results\n",
    "print(\"\\nResults based on the actual number of phenol-phenol crosslinks formed in the system:\")\n",
    "for result in simulated_results:\n",
    "    n_molphen_sim, Hrxn_total_exp, Hrxn_total_pp = result\n",
    "    print(f\"n_molphen_sim = {n_molphen_sim:.2e} mols, Hrxn_total_exp = {Hrxn_total_exp:.2f} J, Hrxn_total_pp = {Hrxn_total_pp:.2f} J\")\n",
    "\n",
    "\n",
    "# Plot the results\n",
    "# Create a figure\n",
    "fig = plt.figure(figsize=(8, 6))\n",
    "ax = fig.add_subplot(1, 1, 1)\n"
   ]
  },
  {
   "cell_type": "code",
   "execution_count": 6,
   "metadata": {},
   "outputs": [],
   "source": [
    "# Constant Input Parameters\n",
    "Ea = [128, 90, 100, 142] # Activation Energy\n",
    "A = [2.34e10, 2.0e10, 2.1e10, 1.8e10] # Pre-exponential Factor\n",
    "Hrxn = [-100, -100, -100, -100] # Heat of Reaction   \n",
    "\n",
    "# Assign the values in the Ea list to identifiable variable names\n",
    "Ea_pp_oo, Ea_pp_op, Ea_pp_pp, Ea_cp = Ea  # Activation Energy for each reaction type\n",
    "A_pp_oo, A_pp_op, A_pp_pp, A_cp = A # Pre-exponential Factor for each reaction type\n",
    "\n",
    "R = 8.314 # Universal Gas Constant\n",
    "\n",
    "print(Ea_pp_oo, Ea_pp_op, Ea_pp_pp, Ea_cp)"
   ]
  },
  {
   "cell_type": "code",
   "execution_count": null,
   "metadata": {},
   "outputs": [],
   "source": [
    "## Defining the model\n",
    "\n",
    "## Identifying the inputs: \n",
    "    ## Temperature (T), preexponential factor (A), activation energy (Ea), time, t\n",
    "\n",
    "## Defining the ranges: \n",
    "T = [300, 400, 500, 600, 700, 800, 900, 1000] # Kelvin\n",
    "A = [1e-10, 1e-9, 1e-8, 1e-7] # 1/s\n",
    "Ea_pp_o = [90] # kJ/mol"
   ]
  }
 ],
 "metadata": {
  "kernelspec": {
   "display_name": "Python 3",
   "language": "python",
   "name": "python3"
  },
  "language_info": {
   "codemirror_mode": {
    "name": "ipython",
    "version": 3
   },
   "file_extension": ".py",
   "mimetype": "text/x-python",
   "name": "python",
   "nbconvert_exporter": "python",
   "pygments_lexer": "ipython3",
   "version": "3.11.5"
  }
 },
 "nbformat": 4,
 "nbformat_minor": 2
}
