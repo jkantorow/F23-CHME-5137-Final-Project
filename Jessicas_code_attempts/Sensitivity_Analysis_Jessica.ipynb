{
 "cells": [
  {
   "cell_type": "code",
   "execution_count": null,
   "metadata": {},
   "outputs": [],
   "source": [
    "## Sensitivity Analysis for Phenolic-Coal Crosslinking Project\n",
    "# The aim is to attempt using the four settings below for sensitivity analysis:\n",
    "        # Factor prioritisation** - which parameters are most influential?\n",
    "        # Factor fixing** - which parameters can we ignore?\n",
    "        # Factor mapping - which inputs matter for just this space in the model output?\n",
    "        # (Metamodelling) - which parameters can I use to model my model?\n",
    "\n",
    "# Questions to answer, Can we determine;\n",
    "        # 1. What is the sensitivity of the model to the input parameters?\n",
    "        # 2. Which parameters are most influential?\n",
    "        # 3. Which parameters can be ignored?\n",
    "        # 4. Which parameters can be mapped to a reduced space?\n",
    "        # 5. Which parameters can be used to model the model?\n",
    "\n",
    "# The aim is to attempt these 2 approaches:\n",
    "    # Local approaches\n",
    "    # Global approaches"
   ]
  }
 ],
 "metadata": {
  "kernelspec": {
   "display_name": "Python 3",
   "language": "python",
   "name": "python3"
  },
  "language_info": {
   "name": "python",
   "version": "3.11.5"
  }
 },
 "nbformat": 4,
 "nbformat_minor": 2
}
