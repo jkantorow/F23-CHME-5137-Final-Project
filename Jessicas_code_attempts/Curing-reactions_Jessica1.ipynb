{
 "cells": [
  {
   "cell_type": "code",
   "execution_count": null,
   "metadata": {},
   "outputs": [],
   "source": [
    "import numpy as np\n",
    "import matplotlib.pyplot as plt\n"
   ]
  },
  {
   "cell_type": "code",
   "execution_count": 5,
   "metadata": {},
   "outputs": [],
   "source": [
    "## The different reaction pathways for Phenolic - Coal reactions\n",
    "# First, we have to define the types of phenolic groups we have\n",
    "# For this project we are working with 3 types of phenolic groups, described by the functional sites as shown below:\n",
    "# Each of the phenol rings would have 2 functional sites,\n",
    "# We have to define the position of the functional sites on the phenol rings\n",
    "\n",
    "# The functional sites are numbered as shown below:\n",
    "# Ph_2\n"
   ]
  },
  {
   "cell_type": "code",
   "execution_count": 6,
   "metadata": {},
   "outputs": [
    {
     "data": {
      "image/png": "[encoded data removed]",
      "text/plain": [
       "<Figure size 640x480 with 1 Axes>"
      ]
     },
     "metadata": {},
     "output_type": "display_data"
    }
   ],
   "source": [
    "import numpy as np\n",
    "import matplotlib.pyplot as plt\n",
    "\n",
    "class PhenolRing:\n",
    "    def __init__(self, position, reactive_sites):\n",
    "        self.position = position\n",
    "        self.reactive_sites = reactive_sites\n",
    "\n",
    "def distance_squared(pos1, pos2):\n",
    "    return np.sum((pos1 - pos2)**2)\n",
    "\n",
    "def is_within_capture_sphere(pos1, pos2, capture_radius_squared):\n",
    "    return distance_squared(pos1, pos2) <= capture_radius_squared\n",
    "\n",
    "def perform_crosslinking(phenol_ring1, phenol_ring2):\n",
    "    # Perform crosslinking reaction between two phenol rings\n",
    "    # Update positions or any other necessary attributes\n",
    "    pass  # Placeholder, replace with actual code\n",
    "\n",
    "# Monte Carlo Simulation Parameters\n",
    "num_phenol_rings = 100\n",
    "capture_radius_squared = 1.0  # Adjust as needed\n",
    "num_simulation_steps = 1000\n",
    "\n",
    "# Initialize phenol rings randomly on a grid\n",
    "phenol_rings = [PhenolRing(np.random.rand(2), np.random.choice(['ortho', 'para'], size=2)) for _ in range(num_phenol_rings)]\n",
    "\n",
    "# Perform Monte Carlo Simulation\n",
    "for step in range(num_simulation_steps):\n",
    "    # Choose two phenol rings randomly\n",
    "    indices = np.random.choice(range(num_phenol_rings), size=2, replace=False)\n",
    "    phenol_ring1, phenol_ring2 = phenol_rings[indices[0]], phenol_rings[indices[1]]\n",
    "\n",
    "    # Check if reactive sites are compatible for crosslinking\n",
    "    if phenol_ring1.reactive_sites[0] != phenol_ring2.reactive_sites[0] and phenol_ring1.reactive_sites[1] != phenol_ring2.reactive_sites[1]:\n",
    "        # Check if the distance is within the capture sphere\n",
    "        if is_within_capture_sphere(phenol_ring1.position, phenol_ring2.position, capture_radius_squared):\n",
    "            # Perform crosslinking reaction\n",
    "            perform_crosslinking(phenol_ring1, phenol_ring2)\n",
    "\n",
    "# Visualization (2D scatter plot)\n",
    "positions = np.array([ring.position for ring in phenol_rings])\n",
    "plt.scatter(positions[:, 0], positions[:, 1], marker='o')\n",
    "plt.title('Monte Carlo Simulation of Phenol Ring Crosslinking')\n",
    "plt.xlabel('X-coordinate')\n",
    "plt.ylabel('Y-coordinate')\n",
    "plt.show()\n"
   ]
  },
  {
   "cell_type": "code",
   "execution_count": 7,
   "metadata": {},
   "outputs": [
    {
     "name": "stdout",
     "output_type": "stream",
     "text": [
      "Rates: (0.01575, 0.1425, 0.375)\n"
     ]
    }
   ],
   "source": [
    "import numpy as np\n",
    "import random as rand\n",
    "\n",
    "class PhenolRing:\n",
    "    def __init__(self, position, molecule_type):\n",
    "        self.position = position\n",
    "        self.molecule_type = molecule_type\n",
    "\n",
    "def initial_random_matrix(n, ratio):\n",
    "    state = np.zeros((n, n), dtype=int)\n",
    "    void_ratio, phenol_ratio, coal_ratio = ratio\n",
    "\n",
    "    for i in range(n):\n",
    "        for j in range(n):\n",
    "            r = rand.randint(1, void_ratio + phenol_ratio + coal_ratio)\n",
    "            if r <= void_ratio:\n",
    "                state[i][j] = 0  # Void\n",
    "            elif r <= void_ratio + phenol_ratio:\n",
    "                state[i][j] = 1  # Phenol\n",
    "            else:\n",
    "                state[i][j] = 2  # Coal\n",
    "    \n",
    "    return state\n",
    "\n",
    "def get_rates(state, T, molecule):\n",
    "    x, y = molecule.position\n",
    "    periphery = state[x-1:x+2, y-1:y+2]\n",
    "\n",
    "    k_ortho_phenol = 0.063\n",
    "    k_para_phenol = 0.034\n",
    "    k_ortho_coal = 0.45\n",
    "    k_para_coal = 0.24\n",
    "\n",
    "    p_ortho_phenol = 0.37\n",
    "    p_para_phenol = 0.63\n",
    "    p_ortho_coal = 0.85\n",
    "    p_para_coal = 0.15\n",
    "\n",
    "    total_curing_rate_phenol = 0\n",
    "    total_curing_rate_coal = 0\n",
    "    total_rate_no_rxn = 0\n",
    "\n",
    "    for i in range(3):\n",
    "        for j in range(3):\n",
    "            if i == 1 and j == 1:\n",
    "                continue\n",
    "            elif periphery[i, j] == 1:\n",
    "                k = rand.choices([k_ortho_phenol, k_para_phenol], [p_ortho_phenol, p_para_phenol])[0]\n",
    "                total_curing_rate_phenol += (1/8) * k\n",
    "            elif periphery[i, j] == 2:\n",
    "                k = rand.choices([k_ortho_coal, k_para_coal], [p_ortho_coal, p_para_coal])[0]\n",
    "                total_curing_rate_coal += (1/8) * k\n",
    "            else:\n",
    "                total_rate_no_rxn += (1/8)\n",
    "\n",
    "    return total_curing_rate_phenol, total_curing_rate_coal, total_rate_no_rxn\n",
    "\n",
    "# Example usage:\n",
    "n = 10\n",
    "ratio = (1, 1, 1)  # Adjust ratio as needed\n",
    "initial_state = initial_random_matrix(n, ratio)\n",
    "molecule = PhenolRing((5, 5), 1)  # Example phenol molecule at position (5, 5)\n",
    "rates = get_rates(initial_state, 300, molecule)\n",
    "print(\"Rates:\", rates)\n"
   ]
  }
 ],
 "metadata": {
  "kernelspec": {
   "display_name": "Python 3",
   "language": "python",
   "name": "python3"
  },
  "language_info": {
   "codemirror_mode": {
    "name": "ipython",
    "version": 3
   },
   "file_extension": ".py",
   "mimetype": "text/x-python",
   "name": "python",
   "nbconvert_exporter": "python",
   "pygments_lexer": "ipython3",
   "version": "3.11.5"
  }
 },
 "nbformat": 4,
 "nbformat_minor": 2
}
