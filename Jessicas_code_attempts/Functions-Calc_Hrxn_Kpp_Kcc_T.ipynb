{
 "cells": [
  {
   "cell_type": "code",
   "execution_count": null,
   "metadata": {},
   "outputs": [],
   "source": [
    "# This is a summary of the functions that was used in the main KMC script"
   ]
  },
  {
   "cell_type": "code",
   "execution_count": null,
   "metadata": {},
   "outputs": [],
   "source": [
    "# For calculating the heat of reaction for the number of crosslinked phenolic-phenolic molecules\n",
    "# Input (n_molphen): number of crosslinked phenolic molecules\n",
    "\n",
    "def Hrxn_pp(n_molphen):\n",
    "    Na = 6.022e23 # Avogadro's number\n",
    "    Hrxn_total_100p = 31620 # Total Heat of reaction (100% phenolic) J/mol (from DSC)\n",
    "    Hrxn_pp = Hrxn_total_100p/Na # J/ph_mol\n",
    "    n_phenol = n_molphen * Na\n",
    "    return Hrxn_pp * n_phenol\n",
    "\n",
    "# For calculating the heat of reaction for the number of crosslinked phenolic-coal molecules\n",
    "# Input (n_molcoal): number of crosslinked phenolic-coal molecules\n",
    "def Hrxn_pc(n_molcoal):\n",
    "    Na = 6.022e23 # Avogadro's number\n",
    "    Hrxn_total_60p = 23406 # Total Heat of reaction (60% phenolic-coal mix) J/mol (from DSC)\n",
    "    Hrxn_pc = Hrxn_total_60p/Na # J/coal_mol\n",
    "    n_coal = n_molcoal * Na\n",
    "    return Hrxn_pc * n_coal\n",
    "\n",
    "# For calculating the reaction rate constant, K for each reaction type (phenol-phenol and phenol-coal)\n",
    "# Input (Temp): Temperature in Kelvin\n",
    "# Output (kpp): reaction rate constant for phenol-phenol reaction\n",
    "# Output (kpc): reaction rate constant for phenol-coal reaction\n",
    "\n",
    "def calculate_kpp(Temp):\n",
    "    # Constants\n",
    "    Ea_pp = 106000 # Activation Energy_phenol-phenol rxn, J/mol \n",
    "    A_pp = 21466666666.666668  # Pre-exponential Factor_phenol-phenol rxn (1/s)\n",
    "    R = 8.314 # Universal Gas Constant, J/mol.k\n",
    "    kpp = A_pp * np.exp(-Ea_pp/(R*Temp))\n",
    "    return kpp \n",
    "\n",
    "def calculate_kpc(Temp):\n",
    "    # Constants\n",
    "    Ea_pc = 142000 # Activation Energy_coal-phenol rxn, J/mol \n",
    "    A_pc = 18000000000  # Pre-exponential Factor_coal-phenol rxn (1/s)\n",
    "    R = 8.314 # Universal Gas Constant, J/mol.k\n",
    "    kpc = A_pc * np.exp(-Ea_pc/(R*Temp))\n",
    "    return kpc \n",
    "\n",
    "# Defining the updated Temperature as a function of the heat of reaction with the optimized parameters, L, k, and x0\n",
    "# Input (Hrxn): Heat of reaction\n",
    "def T_fun(Hrxn,n_molphen):            #Hrxn is in J/g\n",
    "    L_all = 75.07308183216142\n",
    "    k_all = 0.24549951294321715\n",
    "    x0_all = 153.05731157934324\n",
    "    return (np.log(L_all/(Hrxn*600*n_molphen) - 1)/(-k_all)) + x0_all # 600 is the mol.weight of phenolic resin in g/mol\n",
    "\n"
   ]
  }
 ],
 "metadata": {
  "language_info": {
   "name": "python"
  }
 },
 "nbformat": 4,
 "nbformat_minor": 2
}
