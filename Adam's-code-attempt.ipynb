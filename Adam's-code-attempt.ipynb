{
 "cells": [
  {
   "cell_type": "code",
   "execution_count": 48,
   "metadata": {},
   "outputs": [
    {
     "name": "stdout",
     "output_type": "stream",
     "text": [
      "0.71\n",
      "0.32999999999999996\n",
      "0.08999999999999997\n",
      "1.04\n",
      "1.13\n"
     ]
    }
   ],
   "source": [
    "#okie dokie, let's import our packages\n",
    "%matplotlib inline\n",
    "import numpy as np\n",
    "from matplotlib import pyplot as plt\n",
    "\n",
    "import random\n",
    "from random import randrange\n",
    "\n",
    "#I think I might steal Jason's initial random matrix code\n",
    "\n",
    "from rescure import initial_random_matrix\n",
    "\n",
    "#So what are our events? P-P bond, P-C bond, Nothing happens ... There's more but let's just start with that and see where we get\n",
    "#I'm going to put arbitrary rates in for now\n",
    "k1= 0.9\n",
    "k2= 0.7\n",
    "k3= 0.5\n",
    "\n",
    "RatePhenPhen = k1 - (k2*0.2) - (k3*0.1)\n",
    "\n",
    "RatePhenCoal = k2 - (k1*0.3) - (k3*0.2)\n",
    "\n",
    "RateNoRxn = k3 - (k2*0.2) - (k1*0.3)\n",
    "\n",
    "bondsum = sum([RatePhenPhen, RatePhenCoal])\n",
    "ratesum = sum([bondsum, RateNoRxn])\n",
    "\n",
    "print(RatePhenPhen)\n",
    "print(RatePhenCoal)\n",
    "print(RateNoRxn)\n",
    "print(bondsum)\n",
    "print(ratesum)"
   ]
  },
  {
   "cell_type": "code",
   "execution_count": 49,
   "metadata": {},
   "outputs": [
    {
     "name": "stdout",
     "output_type": "stream",
     "text": [
      "[[2. 0. 0.]\n",
      " [0. 1. 1.]\n",
      " [2. 1. 0.]]\n"
     ]
    }
   ],
   "source": [
    "#Yeah so it looks like we need some initial states and actual objects, yeah?\n",
    "t = 0\n",
    "\n",
    "ratio = (1, 2, 1)\n",
    "\n",
    "inital_state = initial_random_matrix(3, ratio)\n",
    "\n",
    "print(inital_state)"
   ]
  },
  {
   "cell_type": "code",
   "execution_count": 50,
   "metadata": {},
   "outputs": [
    {
     "name": "stdout",
     "output_type": "stream",
     "text": [
      "0.352724917350579\n"
     ]
    }
   ],
   "source": [
    "#coolcoolcool now let's get our selector\n",
    "event_selector = np.random.rand()\n",
    "print(event_selector)"
   ]
  },
  {
   "cell_type": "code",
   "execution_count": 51,
   "metadata": {},
   "outputs": [
    {
     "name": "stdout",
     "output_type": "stream",
     "text": [
      "0.39857915660615423\n"
     ]
    }
   ],
   "source": [
    "chosen_event = ratesum * event_selector\n",
    "print(chosen_event)"
   ]
  },
  {
   "cell_type": "code",
   "execution_count": 52,
   "metadata": {},
   "outputs": [
    {
     "name": "stdout",
     "output_type": "stream",
     "text": [
      "2.0\n",
      "0.0\n",
      "0.0\n",
      "0.0\n",
      "1.0\n",
      "1.0\n",
      "2.0\n",
      "1.0\n",
      "0.0\n"
     ]
    }
   ],
   "source": [
    "#First, we should assign variables to each position in the matrix I think\n",
    "\n",
    "NW = inital_state[0,0]\n",
    "N = inital_state[0,1]\n",
    "NE = inital_state[0,2]\n",
    "W = inital_state[1,0]\n",
    "CenterMol0 = inital_state[1,1]\n",
    "E = inital_state[1,2]\n",
    "SW = inital_state[2,0]\n",
    "S = inital_state[2,1]\n",
    "SE = inital_state[2,2]\n",
    "\n",
    "print(NW)\n",
    "print(N)\n",
    "print(NE)\n",
    "print(W)\n",
    "print(CenterMol0)\n",
    "print(E)\n",
    "print(SW)\n",
    "print(S)\n",
    "print(SE)\n"
   ]
  },
  {
   "cell_type": "code",
   "execution_count": 53,
   "metadata": {},
   "outputs": [
    {
     "name": "stdout",
     "output_type": "stream",
     "text": [
      "Phenol-Phenol Bond\n"
     ]
    }
   ],
   "source": [
    "if CenterMol0 == 0.0:\n",
    "    CenterMol = CenterMol0\n",
    "    print('No Reaction')\n",
    "\n",
    "if CenterMol0 == 1.0:\n",
    "    if 0.0<=chosen_event<=RatePhenPhen:\n",
    "        CenterMol = CenterMol0 + 2\n",
    "        print ('Phenol-Phenol Bond')\n",
    "    if RatePhenPhen<chosen_event<=bondsum:\n",
    "        CenterMol = CenterMol0 + 3\n",
    "        print('Phenol-Coal Bond')\n",
    "    if bondsum<chosen_event<=ratesum:\n",
    "        CenterMol = CenterMol0\n",
    "        print('No Reaction')\n",
    "\n",
    "if CenterMol0 == 2.0:\n",
    "    if 0.0<=chosen_event<=RatePhenPhen:\n",
    "        CenterMol = CenterMol0\n",
    "        print('No Reaction')\n",
    "    if RatePhenPhen<chosen_event<=bondsum:\n",
    "        CenterMol = CenterMol0 + 3\n",
    "        print('Phenol-Coal Bond')\n",
    "    if bondsum<chosen_event<=ratesum:\n",
    "        CenterMol = CenterMol0\n",
    "        print('No Reaction')\n"
   ]
  }
 ],
 "metadata": {
  "kernelspec": {
   "display_name": "base",
   "language": "python",
   "name": "python3"
  },
  "language_info": {
   "codemirror_mode": {
    "name": "ipython",
    "version": 3
   },
   "file_extension": ".py",
   "mimetype": "text/x-python",
   "name": "python",
   "nbconvert_exporter": "python",
   "pygments_lexer": "ipython3",
   "version": "3.9.13"
  }
 },
 "nbformat": 4,
 "nbformat_minor": 2
}
