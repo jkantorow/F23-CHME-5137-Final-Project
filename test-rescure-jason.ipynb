{
 "cells": [
  {
   "cell_type": "code",
   "execution_count": 14,
   "metadata": {},
   "outputs": [],
   "source": [
    "from rescure import initial_random_matrix\n",
    "from rescure import get_rates_phenol\n",
    "from rescure import choose_event\n",
    "import numpy as np"
   ]
  },
  {
   "cell_type": "code",
   "execution_count": 15,
   "metadata": {},
   "outputs": [
    {
     "name": "stdout",
     "output_type": "stream",
     "text": [
      "[[1. 1. 1. 1. 1. 2. 1. 2. 1. 1. 2. 2. 1. 1. 1.]\n",
      " [0. 0. 1. 0. 2. 0. 0. 1. 2. 1. 1. 2. 1. 1. 1.]\n",
      " [1. 2. 0. 2. 1. 1. 2. 1. 1. 1. 1. 1. 1. 0. 1.]\n",
      " [2. 1. 1. 0. 0. 1. 1. 1. 2. 1. 1. 2. 2. 2. 2.]\n",
      " [0. 1. 1. 1. 1. 2. 2. 1. 2. 2. 0. 0. 1. 1. 1.]\n",
      " [0. 2. 2. 0. 1. 0. 1. 2. 1. 1. 1. 1. 1. 1. 1.]\n",
      " [1. 0. 1. 1. 1. 1. 2. 0. 1. 2. 2. 0. 2. 1. 2.]\n",
      " [1. 1. 1. 1. 2. 0. 0. 1. 0. 2. 1. 1. 0. 2. 1.]\n",
      " [0. 0. 0. 0. 1. 2. 1. 2. 0. 1. 1. 1. 1. 1. 1.]\n",
      " [2. 2. 1. 1. 1. 0. 1. 1. 0. 0. 1. 1. 1. 1. 2.]\n",
      " [1. 2. 1. 0. 1. 1. 1. 1. 0. 1. 1. 1. 1. 1. 1.]\n",
      " [2. 0. 1. 0. 1. 0. 1. 1. 1. 1. 2. 2. 1. 0. 0.]\n",
      " [0. 1. 2. 2. 2. 1. 1. 0. 1. 1. 1. 0. 1. 2. 1.]\n",
      " [1. 1. 2. 2. 1. 1. 0. 0. 0. 0. 2. 1. 0. 1. 1.]\n",
      " [2. 2. 0. 1. 1. 2. 0. 0. 2. 1. 0. 1. 1. 1. 1.]]\n"
     ]
    }
   ],
   "source": [
    "ratio = (1, 2, 1)\n",
    "\n",
    "inital_state = initial_random_matrix(15, ratio)\n",
    "\n",
    "print(inital_state)"
   ]
  },
  {
   "cell_type": "code",
   "execution_count": 16,
   "metadata": {},
   "outputs": [
    {
     "name": "stdout",
     "output_type": "stream",
     "text": [
      "125 51 49\n"
     ]
    }
   ],
   "source": [
    "n_phenol = np.count_nonzero(inital_state == 1)\n",
    "n_coal = np.count_nonzero(inital_state == 2)\n",
    "n_void = np.count_nonzero(inital_state == 0)\n",
    "\n",
    "print(n_phenol, n_coal, n_void)"
   ]
  },
  {
   "cell_type": "code",
   "execution_count": 17,
   "metadata": {},
   "outputs": [
    {
     "name": "stdout",
     "output_type": "stream",
     "text": [
      "49\n",
      "125\n",
      "51\n"
     ]
    }
   ],
   "source": [
    "# Test to see if the distrubution is the correct ratio:\n",
    "\n",
    "n = len(inital_state)\n",
    "\n",
    "voids = []\n",
    "phenols = []\n",
    "coals = []\n",
    "\n",
    "for i in range(n):\n",
    "    for j in range(n):\n",
    "        if inital_state[i][j] == 0:\n",
    "            voids.append((i, j))\n",
    "        elif inital_state[i][j] == 1:\n",
    "            phenols.append((i, j))\n",
    "        elif inital_state[i][j] == 2:\n",
    "            coals.append((i, j))\n",
    "\n",
    "print(len(voids))\n",
    "print(len(phenols))\n",
    "print(len(coals))\n",
    "\n",
    "# Looks like it's working!"
   ]
  },
  {
   "cell_type": "markdown",
   "metadata": {},
   "source": [
    "Let's test the kernel / filter:"
   ]
  },
  {
   "cell_type": "code",
   "execution_count": 18,
   "metadata": {},
   "outputs": [
    {
     "name": "stdout",
     "output_type": "stream",
     "text": [
      "[1.0, 1.0, 2.0, 0.0, 1.0, 0.0]\n"
     ]
    }
   ],
   "source": [
    "start_mol = (5, 4)\n",
    "i, j = start_mol\n",
    "\n",
    "periphery = []\n",
    "\n",
    "for k in range(i-1, j+2):\n",
    "    for l in range(j-1, j+2):\n",
    "        periphery.append(inital_state[k, l]) #NOT WORKING\n",
    "\n",
    "# Reshape the periphery array to be a 3x3 array:\n",
    "\n",
    "# periphery = np.array(periphery).reshape(3, 3)\n",
    "print(periphery)"
   ]
  },
  {
   "cell_type": "code",
   "execution_count": 19,
   "metadata": {},
   "outputs": [],
   "source": [
    "# Different method of setting up the kernel / mask:\n",
    "\n",
    "start_mol = (5, 4)\n",
    "i, j = start_mol\n",
    "\n",
    "kernel = np.zeros((3, 3))\n",
    "\n",
    "kernel[0, 0] = 1 # Still need to figure out how to do this automatically"
   ]
  },
  {
   "cell_type": "markdown",
   "metadata": {},
   "source": [
    "Testing a simple rate function calculator:"
   ]
  },
  {
   "cell_type": "code",
   "execution_count": 20,
   "metadata": {},
   "outputs": [
    {
     "name": "stdout",
     "output_type": "stream",
     "text": [
      "(3.8, 0.11999999999999994, 0, 0.0, 0.0, 0.0, 0.0, 0.0, 0.0, 0.0, 0.0, [(2, 5), (2, 6), (2, 7), (3, 5), (3, 7), (4, 5), (4, 6), (4, 7)], [1.0, 2.0, 1.0, 1.0, 1.0, 2.0, 2.0, 1.0])\n",
      "\n",
      "\n",
      "(4.5600000000000005, 0.03999999999999998, 0, 0.0, 0.14285714285714285, 0.0, 0.0, 0.0, 0.0, 0.0, 0.0, [(7, 11), (7, 12), (7, 13), (8, 11), (8, 13), (9, 11), (9, 12), (9, 13)], [1.0, 0.0, 2.0, 1.0, 1.0, 1.0, 1.0, 1.0])\n",
      "\n",
      "\n",
      "(2.2800000000000002, 0.15999999999999992, 0, 0.0, 0.0, 0.0, 0.0, 0.0, 0.0, 0.14285714285714285, 0.0, [(12, 1), (12, 2), (12, 3), (13, 1), (13, 3), (14, 1), (14, 2), (14, 3)], [1.0, 2.0, 2.0, 1.0, 2.0, 2.0, 0.0, 1.0])\n"
     ]
    }
   ],
   "source": [
    "state = inital_state\n",
    "\n",
    "pos_1 = (3, 6)\n",
    "pos_2 = (8, 12)\n",
    "pos_3 = (13, 2)\n",
    "\n",
    "T = 1\n",
    "\n",
    "rates_1 = get_rates_phenol(state, pos_1, T)\n",
    "rates_2 = get_rates_phenol(state, pos_2, T)\n",
    "rates_3 = get_rates_phenol(state, pos_3, T)\n",
    "\n",
    "print(rates_1)\n",
    "print(\"\\n\")\n",
    "print(rates_2)\n",
    "print(\"\\n\")\n",
    "print(rates_3)"
   ]
  },
  {
   "cell_type": "code",
   "execution_count": 21,
   "metadata": {},
   "outputs": [
    {
     "name": "stdout",
     "output_type": "stream",
     "text": [
      "pp_rxn\n",
      "pc_rxn\n",
      "pp_rxn\n"
     ]
    }
   ],
   "source": [
    "event1 = choose_event(rates_1[0:11], 1)\n",
    "event2 = choose_event(rates_2[0:11], 2)\n",
    "event3 = choose_event(rates_3[0:11], 1)\n",
    "\n",
    "print(event1)\n",
    "print(event2)\n",
    "print(event3)"
   ]
  },
  {
   "cell_type": "markdown",
   "metadata": {},
   "source": [
    "# Let's test the simulation:"
   ]
  },
  {
   "cell_type": "code",
   "execution_count": 22,
   "metadata": {},
   "outputs": [],
   "source": [
    "import rescure"
   ]
  },
  {
   "cell_type": "code",
   "execution_count": 34,
   "metadata": {},
   "outputs": [
    {
     "name": "stdout",
     "output_type": "stream",
     "text": [
      "[353.5, 353.50591, 353.50737, 353.50766999999996, 353.50766999999996, 353.50766999999996, 353.50809999999996, 353.50867999999997, 353.50867999999997, 353.50953999999996, 353.50953999999996, 353.51039999999995, 353.51039999999995, 353.51054999999997, 353.51054999999997, 353.51054999999997, 353.51054999999997, 353.51054999999997, 353.51054999999997, 353.51054999999997, 353.51054999999997, 353.51054999999997, 353.51054999999997, 353.51054999999997, 353.51054999999997, 353.51054999999997, 353.51054999999997, 353.51054999999997, 353.51054999999997, 353.51054999999997, 353.51054999999997, 353.51054999999997, 353.51054999999997, 353.51054999999997, 353.51054999999997, 353.51054999999997, 353.51054999999997, 353.51054999999997, 353.51054999999997, 353.51054999999997, 353.51054999999997, 353.51054999999997, 353.51054999999997, 353.51054999999997, 353.51054999999997, 353.51054999999997, 353.51054999999997, 353.51054999999997, 353.51054999999997, 353.51054999999997, 353.51054999999997]\n",
      "Temps length:  51\n",
      "[12, 2, 0, 0, 0, 1, 1, 0, 2, 0, 2, 0, 0, 0, 0, 0, 0, 0, 0, 0, 0, 0, 0, 0, 0, 0, 0, 0, 0, 0, 0, 0, 0, 0, 0, 0, 0, 0, 0, 0, 0, 0, 0, 0, 0, 0, 0, 0, 0, 0]\n",
      "Crosslinks length:  50\n",
      "[5, 4, 2, 0, 0, 0, 1, 0, 0, 0, 0, 0, 1, 0, 0, 0, 0, 0, 0, 0, 0, 0, 0, 0, 0, 0, 0, 0, 0, 0, 0, 0, 0, 0, 0, 0, 0, 0, 0, 0, 0, 0, 0, 0, 0, 0, 0, 0, 0, 0]\n",
      "[0.005909999999999999, 0.00146, 0.0003, 0, 0, 0.00043, 0.00058, 0, 0.00086, 0, 0.00086, 0, 0.00015, 0, 0, 0, 0, 0, 0, 0, 0, 0, 0, 0, 0, 0, 0, 0, 0, 0, 0, 0, 0, 0, 0, 0, 0, 0, 0, 0, 0, 0, 0, 0, 0, 0, 0, 0, 0, 0]\n",
      "\n",
      "\n",
      "[354  35  11]\n",
      "[355   4   5  22  14]\n"
     ]
    }
   ],
   "source": [
    "n = 20\n",
    "ratio = (30, 3, 1) # (voids, phenols, coals)\n",
    "T = 353.5 # Kelvin\n",
    "n_iter = 50\n",
    "\n",
    "state_list, temps, crosslinks, coal_rxn, heat_rxn, init_mols, final_mols = rescure.resin_cure_simulation(n, ratio, T, n_iter)\n",
    "\n",
    "print(temps)\n",
    "print(\"Temps length: \", len(temps))\n",
    "print(crosslinks)\n",
    "print(\"Crosslinks length: \", len(crosslinks))\n",
    "print(coal_rxn)\n",
    "print(heat_rxn)\n",
    "print(\"\\n\")\n",
    "print(init_mols)\n",
    "print(final_mols)\n"
   ]
  },
  {
   "cell_type": "markdown",
   "metadata": {},
   "source": [
    "Success! For now."
   ]
  },
  {
   "cell_type": "code",
   "execution_count": 30,
   "metadata": {},
   "outputs": [
    {
     "name": "stdout",
     "output_type": "stream",
     "text": [
      "[[0. 0. 0. 0. 0. 0. 0. 0. 0. 0. 0. 0. 0. 0. 0. 0. 0. 1. 0. 0.]\n",
      " [0. 0. 0. 2. 1. 0. 1. 0. 0. 0. 0. 0. 0. 0. 0. 0. 0. 0. 0. 0.]\n",
      " [0. 0. 0. 0. 0. 0. 0. 0. 0. 0. 0. 0. 0. 1. 0. 1. 1. 1. 1. 0.]\n",
      " [0. 0. 0. 2. 0. 1. 0. 0. 0. 0. 0. 0. 0. 0. 0. 1. 0. 0. 0. 0.]\n",
      " [1. 0. 0. 0. 0. 0. 0. 0. 0. 0. 0. 0. 0. 0. 0. 0. 0. 0. 0. 0.]\n",
      " [0. 0. 0. 0. 0. 0. 0. 0. 0. 0. 0. 1. 0. 0. 0. 0. 0. 0. 1. 0.]\n",
      " [0. 0. 0. 0. 0. 0. 0. 0. 0. 0. 0. 1. 0. 0. 0. 1. 1. 1. 0. 0.]\n",
      " [1. 0. 0. 0. 0. 1. 0. 1. 0. 0. 0. 0. 0. 0. 0. 0. 0. 0. 0. 0.]\n",
      " [0. 0. 0. 0. 0. 0. 0. 0. 0. 0. 0. 0. 1. 0. 0. 0. 0. 0. 0. 0.]\n",
      " [0. 0. 0. 0. 0. 0. 0. 0. 0. 0. 0. 0. 0. 0. 1. 0. 0. 0. 2. 0.]\n",
      " [0. 1. 0. 2. 0. 0. 0. 0. 1. 0. 0. 0. 1. 0. 0. 0. 2. 0. 0. 0.]\n",
      " [0. 0. 0. 0. 0. 0. 0. 0. 0. 0. 0. 0. 0. 0. 0. 0. 0. 0. 0. 0.]\n",
      " [1. 0. 0. 0. 0. 1. 0. 0. 0. 0. 1. 0. 0. 0. 0. 2. 0. 0. 0. 0.]\n",
      " [0. 0. 0. 0. 0. 0. 0. 0. 0. 0. 0. 0. 0. 1. 0. 0. 0. 0. 0. 0.]\n",
      " [0. 0. 0. 0. 0. 0. 0. 1. 2. 1. 0. 0. 0. 0. 0. 0. 0. 0. 0. 0.]\n",
      " [0. 0. 0. 0. 2. 0. 1. 0. 1. 0. 0. 0. 2. 0. 0. 0. 0. 0. 0. 0.]\n",
      " [0. 0. 1. 0. 0. 0. 0. 0. 0. 0. 0. 0. 0. 0. 0. 0. 0. 0. 0. 0.]\n",
      " [0. 0. 0. 0. 0. 0. 0. 0. 0. 0. 0. 0. 0. 0. 0. 2. 0. 0. 0. 0.]\n",
      " [0. 0. 0. 1. 0. 0. 0. 0. 0. 0. 1. 0. 0. 1. 0. 1. 2. 0. 0. 0.]\n",
      " [0. 0. 0. 0. 0. 0. 1. 1. 0. 0. 0. 0. 0. 0. 0. 0. 0. 0. 0. 0.]]\n",
      "\n",
      "\n",
      "[[0. 0. 2. 0. 0. 0. 0. 0. 0. 0. 0. 0. 0. 0. 0. 0. 0. 3. 0. 0.]\n",
      " [0. 0. 0. 0. 4. 0. 0. 0. 0. 0. 0. 0. 0. 0. 0. 0. 3. 0. 0. 0.]\n",
      " [0. 0. 0. 0. 0. 0. 0. 3. 0. 0. 0. 0. 0. 0. 0. 3. 3. 3. 3. 0.]\n",
      " [0. 0. 0. 0. 0. 0. 3. 0. 0. 0. 0. 0. 0. 0. 0. 3. 0. 0. 0. 0.]\n",
      " [1. 0. 0. 0. 0. 0. 0. 0. 0. 0. 0. 0. 0. 0. 0. 0. 0. 0. 0. 0.]\n",
      " [2. 0. 0. 0. 0. 0. 0. 0. 0. 0. 0. 3. 0. 0. 0. 0. 0. 0. 3. 0.]\n",
      " [0. 0. 0. 0. 0. 0. 0. 3. 3. 0. 0. 3. 0. 0. 0. 3. 3. 3. 0. 0.]\n",
      " [1. 0. 0. 0. 0. 0. 0. 0. 0. 0. 0. 0. 0. 0. 0. 0. 0. 0. 0. 0.]\n",
      " [0. 0. 0. 0. 0. 0. 0. 0. 0. 0. 0. 0. 0. 0. 0. 0. 3. 0. 0. 0.]\n",
      " [2. 0. 0. 0. 0. 0. 0. 0. 0. 0. 0. 0. 0. 0. 0. 3. 0. 0. 0. 0.]\n",
      " [1. 0. 0. 0. 0. 0. 0. 0. 0. 0. 0. 0. 0. 0. 0. 0. 0. 0. 4. 4.]\n",
      " [0. 0. 0. 4. 0. 0. 3. 0. 0. 0. 0. 0. 0. 0. 0. 0. 0. 4. 0. 0.]\n",
      " [1. 0. 0. 0. 4. 0. 3. 0. 0. 0. 4. 3. 0. 0. 0. 0. 4. 0. 0. 0.]\n",
      " [0. 0. 0. 0. 0. 0. 0. 0. 0. 0. 0. 0. 3. 0. 0. 0. 0. 0. 0. 0.]\n",
      " [0. 0. 0. 4. 0. 0. 4. 3. 0. 3. 0. 0. 0. 0. 0. 0. 0. 0. 0. 0.]\n",
      " [0. 0. 0. 0. 0. 0. 3. 0. 3. 0. 0. 0. 0. 0. 0. 0. 0. 0. 0. 0.]\n",
      " [0. 0. 0. 0. 0. 0. 0. 0. 0. 0. 0. 0. 4. 0. 0. 0. 0. 0. 0. 0.]\n",
      " [0. 0. 0. 0. 0. 0. 0. 0. 0. 0. 0. 0. 0. 0. 0. 4. 0. 0. 0. 0.]\n",
      " [0. 0. 0. 0. 0. 0. 0. 0. 3. 0. 0. 0. 0. 0. 0. 4. 4. 0. 0. 0.]\n",
      " [0. 1. 0. 0. 0. 0. 1. 3. 0. 0. 0. 0. 0. 0. 0. 0. 0. 0. 0. 0.]]\n"
     ]
    }
   ],
   "source": [
    "state_1 = state_list[0]\n",
    "state_2 = state_list[-1]\n",
    "\n",
    "print(state_1)\n",
    "print(\"\\n\")\n",
    "print(state_2)"
   ]
  },
  {
   "cell_type": "markdown",
   "metadata": {},
   "source": [
    "Can we turn this into a heatmap?"
   ]
  },
  {
   "cell_type": "code",
   "execution_count": 33,
   "metadata": {},
   "outputs": [
    {
     "data": {
      "image/png": "[encoded data removed]",
      "text/plain": [
       "<Figure size 640x480 with 2 Axes>"
      ]
     },
     "metadata": {},
     "output_type": "display_data"
    }
   ],
   "source": [
    "import numpy as np\n",
    "# Take the states and turn them into heat maps so\n",
    "# we can visualize them better:\n",
    "\n",
    "import matplotlib.pyplot as plt\n",
    "# Define the custom colormap\n",
    "cmap = plt.cm.colors.ListedColormap(['white', 'lightblue', 'black'])\n",
    "\n",
    "# Plot the heat map using the custom colormap\n",
    "plt.imshow(state_1, cmap=cmap, interpolation='nearest')\n",
    "\n",
    "# Add colorbar\n",
    "plt.colorbar(ticks=np.arange(2))\n",
    "\n",
    "# Show the plot\n",
    "plt.show()\n"
   ]
  },
  {
   "cell_type": "code",
   "execution_count": 32,
   "metadata": {},
   "outputs": [
    {
     "data": {
      "image/png": "[encoded data removed]",
      "text/plain": [
       "<Figure size 640x480 with 2 Axes>"
      ]
     },
     "metadata": {},
     "output_type": "display_data"
    }
   ],
   "source": [
    "cmap = plt.cm.colors.ListedColormap(['white', 'lightblue', 'black', 'darkblue', 'purple'])\n",
    "\n",
    "plt.imshow(state_2, cmap=cmap, interpolation='nearest')\n",
    "plt.colorbar(ticks=np.arange(5))\n",
    "plt.show()"
   ]
  },
  {
   "cell_type": "code",
   "execution_count": null,
   "metadata": {},
   "outputs": [],
   "source": []
  }
 ],
 "metadata": {
  "kernelspec": {
   "display_name": "Python 3",
   "language": "python",
   "name": "python3"
  },
  "language_info": {
   "codemirror_mode": {
    "name": "ipython",
    "version": 3
   },
   "file_extension": ".py",
   "mimetype": "text/x-python",
   "name": "python",
   "nbconvert_exporter": "python",
   "pygments_lexer": "ipython3",
   "version": "3.11.5"
  }
 },
 "nbformat": 4,
 "nbformat_minor": 2
}
